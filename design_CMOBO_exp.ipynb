{
 "cells": [
  {
   "cell_type": "code",
   "execution_count": 3,
   "metadata": {},
   "outputs": [],
   "source": [
    "import math\n",
    "from botorch.utils import t_batch_mode_transform\n",
    "import torch\n",
    "from botorch.models.model_list_gp_regression import ModelListGP\n",
    "from botorch.models import  SingleTaskGP\n",
    "from botorch.fit import fit_gpytorch_mll\n",
    "from botorch.utils import standardize\n",
    "from gpytorch.mlls.sum_marginal_log_likelihood import SumMarginalLogLikelihood\n",
    "from botorch.acquisition import AnalyticAcquisitionFunction\n",
    "from botorch.acquisition.monte_carlo import MCAcquisitionFunction\n",
    "from botorch.acquisition.monte_carlo import AcquisitionFunction\n",
    "from botorch.optim.optimize import optimize_acqf\n",
    "from botorch.optim.initializers import gen_batch_initial_conditions\n",
    "from botorch.utils.transforms import normalize, unnormalize\n",
    "from botorch.models.transforms.outcome import Standardize\n",
    "\n",
    "#kernels\n",
    "from gpytorch.kernels import RBFKernel"
   ]
  },
  {
   "cell_type": "markdown",
   "metadata": {},
   "source": [
    "problem setting\n",
    "\n",
    "Two Bar Truss Design"
   ]
  },
  {
   "cell_type": "code",
   "execution_count": 4,
   "metadata": {},
   "outputs": [],
   "source": [
    "from design import Design\n",
    "from botorch.utils.sampling import draw_sobol_samples\n",
    "problem = Design()\n",
    "\n",
    "def test_f(X):\n",
    "    return problem.evaluate(X.to(torch.float64))\n",
    "bounds = problem.bounds\n",
    "def generate_initial_data(n):\n",
    "    # generate training data\n",
    "    train_x = (draw_sobol_samples(bounds=bounds, n=n, q=1).squeeze(1)).to(torch.float64)\n",
    "    train_obj, train_const = test_f(train_x)\n",
    "    return train_x, train_obj, train_const"
   ]
  },
  {
   "cell_type": "code",
   "execution_count": 5,
   "metadata": {},
   "outputs": [
    {
     "data": {
      "text/plain": [
       "(tensor([[  72.4926,   80.7180, 1221.4901,   11.1833],\n",
       "         [  67.3461,  102.5224, 2452.8333,   19.3541]], dtype=torch.float64),\n",
       " tensor([[-0.6288, -6.2501],\n",
       "         [-5.3739, -1.6008]], dtype=torch.float64),\n",
       " tensor([[-1.1775e+01,  9.1314e-02,  7.5250e-01,  4.0893e+04],\n",
       "         [ 1.5176e+01,  2.6927e-01,  8.8224e-01,  1.6228e+05]],\n",
       "        dtype=torch.float64))"
      ]
     },
     "execution_count": 5,
     "metadata": {},
     "output_type": "execute_result"
    }
   ],
   "source": [
    "generate_initial_data(2)"
   ]
  },
  {
   "cell_type": "markdown",
   "metadata": {},
   "source": [
    "acquisition"
   ]
  },
  {
   "cell_type": "code",
   "execution_count": 6,
   "metadata": {},
   "outputs": [],
   "source": [
    "from botorch.acquisition import AnalyticAcquisitionFunction\n",
    "import torch\n",
    "\n",
    "class HyperVolumeScalarizedUCB(AnalyticAcquisitionFunction):\n",
    "    def __init__(\n",
    "        self,\n",
    "        model,\n",
    "        beta: float,\n",
    "        theta: torch.Tensor,\n",
    "        ref: torch.Tensor,\n",
    "        maximize: bool = True,\n",
    "    ) -> None:\n",
    "        \"\"\"\n",
    "        Initializes the HyperVolume Scalarized Upper Confidence Bound Acquisition Function.\n",
    "\n",
    "        Args:\n",
    "            model: A BoTorch model representing the posterior distribution of the objectives.\n",
    "            beta (Tensor of shape [1] or [o]): The exploration-exploitation trade-off parameter(s).\n",
    "            theta (Tensor of shape [o]): The weights used for scalarizing the upper bounds, where `o` is the number of objectives.\n",
    "            maximize (bool): Whether to maximize or minimize the scalarized objective. Defaults to True (maximize).\n",
    "        \"\"\"\n",
    "        super(AnalyticAcquisitionFunction, self).__init__(model)\n",
    "        self.maximize = maximize\n",
    "        self.register_buffer(\"beta\", torch.as_tensor(beta))\n",
    "        self.register_buffer(\"theta\", torch.as_tensor(theta))\n",
    "        self.register_buffer(\"ref\", torch.as_tensor(ref))\n",
    "    @t_batch_mode_transform(expected_q=1)\n",
    "    def forward(self, X: torch.Tensor) -> torch.Tensor:\n",
    "        \"\"\"\n",
    "        Evaluate the scalarized Upper Confidence Bound on the candidate set X.\n",
    "\n",
    "        Args:\n",
    "            X (Tensor of shape [b, d]): A tensor containing `(b)` batches of `d`-dimensional design points.\n",
    "\n",
    "        Returns:\n",
    "            Tensor of shape [b]: A tensor containing the scalarized Upper Confidence Bound values for each batch.\n",
    "        \"\"\"\n",
    "        self.beta = self.beta.to(X)\n",
    "        self.theta = self.theta.to(X)\n",
    "        self.ref = self.ref.to(X)\n",
    "        posterior = self.model.posterior(X)\n",
    "        means = posterior.mean.squeeze(dim=-2)  # b x o\n",
    "        std_devs = posterior.variance.squeeze(dim=-2).sqrt()  # b x o\n",
    "        m = means.shape[1]\n",
    "        # Calculate upper confidence bounds for each objective\n",
    "        u_t = means + (self.beta.expand_as(means) * std_devs) - self.ref # b x o\n",
    "\n",
    "        # Apply the scalarization function to the upper bounds\n",
    "        scalarized_ut = torch.min(torch.max(torch.zeros_like(u_t), u_t / self.theta) ** m, dim=-1)[0]  # b\n",
    "\n",
    "        return scalarized_ut\n"
   ]
  },
  {
   "cell_type": "markdown",
   "metadata": {},
   "source": [
    "Auxiliary Acq"
   ]
  },
  {
   "cell_type": "code",
   "execution_count": 7,
   "metadata": {},
   "outputs": [],
   "source": [
    "class AuxiliaryAcq(MCAcquisitionFunction):\n",
    "    def __init__(\n",
    "        self,\n",
    "        model,\n",
    "        beta: float,\n",
    "        theta: torch.Tensor,\n",
    "        ref: torch.Tensor,\n",
    "        maximize: bool = True,\n",
    "    ) -> None:\n",
    "        \"\"\"\n",
    "        An auxiliary acquisition defined in Algo.2\n",
    "\n",
    "        Args:\n",
    "            model: A BoTorch model representing the posterior distribution of the objectives.\n",
    "            beta (Tensor of shape [1] or [o]): The exploration-exploitation trade-off parameter(s).\n",
    "            theta (Tensor of shape [o]): The weights used for scalarizing the upper bounds, where `o` is the number of objectives.\n",
    "            maximize (bool): Whether to maximize or minimize the scalarized objective. Defaults to True (maximize).\n",
    "        \"\"\"\n",
    "        super(MCAcquisitionFunction, self).__init__(model)\n",
    "        self.maximize = maximize\n",
    "        self.register_buffer(\"beta\", torch.as_tensor(beta))\n",
    "        self.register_buffer(\"theta\", torch.as_tensor(theta))\n",
    "        self.register_buffer(\"ref\", torch.as_tensor(ref))\n",
    "    @t_batch_mode_transform()\n",
    "    def forward(self, X: torch.Tensor) -> torch.Tensor:\n",
    "        \"\"\"\n",
    "        Evaluate the scalarized Upper Confidence Bound on the candidate set X.\n",
    "\n",
    "        Args:\n",
    "            X (Tensor of shape [b, d]): A tensor containing `(b)` batches of `d`-dimensional design points.\n",
    "\n",
    "        Returns:\n",
    "            Tensor of shape [b]: A tensor containing the scalarized Upper Confidence Bound values for each batch.\n",
    "        \"\"\"\n",
    "        self.beta = self.beta.to(X)\n",
    "        self.theta = self.theta.to(X)\n",
    "        self.ref = self.ref.to(X)\n",
    "        posterior = self.model.posterior(X)\n",
    "        #print(posterior.mean.shape)\n",
    "        means = posterior.mean  # b x q x o\n",
    "        std_devs = posterior.variance.sqrt()  # b x q x o\n",
    "        # Calculate upper confidence bounds for each objective\n",
    "        u_t = means + (self.beta.expand_as(means) * std_devs) - self.ref # b x qx o\n",
    "        #print('233', u_t.shape)\n",
    "\n",
    "        # Apply the scalarization function to the upper bounds\n",
    "        scalarized_ut = torch.min(torch.min(u_t, dim=-1)[0], dim=-1)[0]  # b\n",
    "        return scalarized_ut\n"
   ]
  },
  {
   "cell_type": "markdown",
   "metadata": {},
   "source": [
    "constraints"
   ]
  },
  {
   "cell_type": "code",
   "execution_count": 8,
   "metadata": {},
   "outputs": [],
   "source": [
    "import torch\n",
    "from typing import List, Tuple, Callable\n",
    "\n",
    "def create_ucb_constraints(model, beta: float, thresholds: torch.Tensor):\n",
    "    \"\"\"\n",
    "    Creates a list of non-linear inequality constraints for a multi-output GP model, ensuring that the upper confidence\n",
    "    bounds of the model's outputs are greater than or equal to the specified thresholds.\n",
    "\n",
    "    Args:\n",
    "        model (MultiTaskGP): A multi-output Gaussian Process model.\n",
    "        beta (float): The scalar coefficient for the variance component of the UCB.\n",
    "        thresholds (torch.Tensor): A tensor of thresholds for each output dimension.\n",
    "\n",
    "    Returns:\n",
    "        List[Tuple[Callable, bool]]: A list of tuples, each containing a callable constraint and a boolean indicating\n",
    "                                      whether the constraint is intra-point (True) or inter-point (False). Each callable\n",
    "                                      takes a tensor `X` of shape [q, d] (where `d` is the dimension of the input space\n",
    "                                      and `q` can be 1 or more representing different design points) and returns a scalar\n",
    "                                      that should be non-negative if the constraint is satisfied.\n",
    "    \"\"\"\n",
    "    \n",
    "    def constraint(X):\n",
    "        \"\"\"\n",
    "        Evaluates all constraints for a batch of design points.\n",
    "\n",
    "        Args:\n",
    "            X (torch.Tensor): A tensor of shape [q, d] (where `d` is the dimension of the input space and `q` can be 1 or more \n",
    "                              representing different design points).\n",
    "\n",
    "        Returns:\n",
    "            torch.Tensor: A tensor of shape [q, m] (where `m` is the number of output dimensions) containing the evaluated \n",
    "                          constraints.\n",
    "        \"\"\"\n",
    "        # Compute posterior at X\n",
    "        X = X.unsqueeze(0)\n",
    "        posterior = model.posterior(X)\n",
    "        mean = posterior.mean\n",
    "        variance = posterior.variance\n",
    "        ucb = mean + beta * variance.sqrt()  # Compute the UCB\n",
    "\n",
    "        # Evaluate all constraints and return the difference from thresholds\n",
    "        return ucb - thresholds\n",
    "\n",
    "    # Create a list of constraints for each output dimension, all set as intra-point since they evaluate individually\n",
    "    constraints = [(lambda X, i=i: constraint(X)[:, i], True) for i in range(thresholds.size(0))]\n",
    "\n",
    "    return constraints\n"
   ]
  },
  {
   "cell_type": "code",
   "execution_count": 9,
   "metadata": {},
   "outputs": [],
   "source": [
    "def get_random_sample_on_n_sphere(N, R):\n",
    "    # Return a single sample of a vector of dimension N\n",
    "    # with a uniform distribution on the (N-1)-Sphere surface of radius R.\n",
    "    # RATIONALE: https://mathworld.wolfram.com/HyperspherePointPicking.html\n",
    "    \n",
    "    # Generate a normally distributed point\n",
    "    X = torch.randn(N)\n",
    "\n",
    "    # Normalize this point to the surface of the sphere, then scale by radius R\n",
    "    return R * X / torch.norm(X)"
   ]
  },
  {
   "cell_type": "markdown",
   "metadata": {},
   "source": [
    "BO loop\n",
    "\n",
    "take thresholds to be: -1.9, -2.25"
   ]
  },
  {
   "cell_type": "markdown",
   "metadata": {},
   "source": [
    "kernel picking"
   ]
  },
  {
   "cell_type": "code",
   "execution_count": 10,
   "metadata": {},
   "outputs": [],
   "source": [
    "# from Customized_Kernels import Customized_RBF, Customized_Matern\n",
    "from metrics import HV, violation\n",
    "# rbf_module = Customized_RBF(2,2)\n",
    "# matern_module = Customized_Matern(1,0.5,1)"
   ]
  },
  {
   "cell_type": "code",
   "execution_count": 12,
   "metadata": {},
   "outputs": [
    {
     "name": "stdout",
     "output_type": "stream",
     "text": [
      "00000000000000000000000000000000000000000000000000\n"
     ]
    }
   ],
   "source": [
    "import warnings\n",
    "\n",
    "warnings.filterwarnings('ignore')\n",
    "import time\n",
    "c = 0\n",
    "print('0'*50)\n",
    "random_seeds = [83810, 14592, 3278, 97196, 36048, 32098, 29256, 18289, 96530, 13434, 88696, 97080, 71482, 11395, 77397, 55302, 4165, 3905, 12280, 28657, 30495, 66237, 78907, 3478, 73563,\n",
    "26062, 93850, 85181, 91924, 71426, 54987, 28893, 58878, 77236, 36463, 851, 99458, 20926, 91506, 55392, 44597, 36421, 20379, 28221, 44118, 13396, 12156, 49797, 12676, 47052]\n",
    "declared = False\n",
    "for seed in random_seeds[:10]:\n",
    "    torch.manual_seed(seed)\n",
    "    train_X, train_Y, train_Con = generate_initial_data(10)\n",
    "    train_X = normalize(train_X, bounds)\n",
    "    c+=1\n",
    "    torch.save(train_X, f'train_domain_design_{c}.pt')\n",
    "    # continue\n",
    "    train_X_r, train_Y_r, train_Con_r = train_X, train_Y, train_Con\n",
    "    a = -8\n",
    "    b = -8\n",
    "    thresholds = torch.tensor([a,b], dtype= torch.float64)\n",
    "    Hpv = []\n",
    "    Hpvr = []\n",
    "    NUM_ITER = 100\n",
    "    for batch in range(NUM_ITER):\n",
    "        t0 = time.monotonic()\n",
    "        model_list = []\n",
    "        model_list_const = []\n",
    "        m = 2\n",
    "        m_c = 4\n",
    "        for i in range(m):\n",
    "            current_model = SingleTaskGP(train_X= train_X, train_Y= train_Y[:, i].unsqueeze(-1), outcome_transform= Standardize(m = 1), train_Yvar= torch.zeros((train_X.shape[0],1)) + 0.05**2)\n",
    "            model_list.append(current_model)\n",
    "        for i in range(m_c):\n",
    "            current_model_const = SingleTaskGP(train_X = train_X, train_Y = train_Con[:, i].unsqueeze(-1))\n",
    "            model_list_const.append(current_model_const)\n",
    "        model = ModelListGP(*model_list)\n",
    "        model_const = ModelListGP(*model_list_const)\n",
    "        mll_model = SumMarginalLogLikelihood(model.likelihood, model)\n",
    "        mll_const = SumMarginalLogLikelihood(model_const.likelihood, model)\n",
    "        fit_gpytorch_mll(mll_model)\n",
    "        fit_gpytorch_mll(mll_const)\n",
    "        #t1 = time.monotonic()\n",
    "        #sample theta from distribution\n",
    "        theta = get_random_sample_on_n_sphere(m,1).abs()\n",
    "        beta = 0.4* math.log(2*((batch+1)))\n",
    "        beta_const = 0.2 * math.log(((batch+1)))\n",
    "\n",
    "        #auxiliary acquisition\n",
    "        AuxAcq = AuxiliaryAcq(model= model_const, beta= torch.tensor(beta_const), theta = theta, ref= torch.tensor([0,0,0,0]))\n",
    "        initializer, acq_value = optimize_acqf(\n",
    "            acq_function = AuxAcq,\n",
    "            q = 3,\n",
    "            num_restarts = 10,\n",
    "            raw_samples = 10,\n",
    "            bounds = torch.tensor([[0.0]*4, [1.0]*4])\n",
    "        )\n",
    "        #declare\n",
    "        if acq_value < 0: \n",
    "            declared = True\n",
    "            break\n",
    "        #t2 = time.monotonic()\n",
    "        #create acquisition function\n",
    "        HVUCB = HyperVolumeScalarizedUCB(model= model, beta= torch.tensor(beta), theta = theta, ref= thresholds)\n",
    "        #optimize constraint function\n",
    "        candidate, acq_scalar = optimize_acqf(\n",
    "            acq_function = HVUCB,\n",
    "            q = 1,\n",
    "            num_restarts = 4,\n",
    "            nonlinear_inequality_constraints = create_ucb_constraints(beta=beta_const, model= model_const, thresholds= torch.tensor([0,0,0,0])),\n",
    "            #ic_generator = gen_batch_initial_conditions,\n",
    "            batch_initial_conditions = initializer.view([-1,1,4]),\n",
    "            #take the standard bounds\n",
    "            bounds = torch.tensor([[0.0]*4, [1.0]*4]),\n",
    "            options = {\"batch_limit\": 1, \"maxiter\": 500}\n",
    "        )\n",
    "        #t3 = time.monotonic()\n",
    "        #update data\n",
    "        train_X = torch.cat([train_X, candidate],dim=0)\n",
    "        new_y, new_con = test_f(unnormalize(candidate, bounds= bounds))\n",
    "        train_Y = torch.cat([train_Y, new_y], dim = 0)\n",
    "        train_Con = torch.cat([train_Con, new_con], dim = 0)\n",
    "        vio = torch.where(train_Con < 0, -train_Con, torch.zeros_like(train_Con)).sum(dim = -1)\n",
    "        feasi_ind = vio == 0\n",
    "        hv = HV(Y = train_Y[feasi_ind, :], ref = thresholds)\n",
    "        Hpv.append(hv)\n",
    "        #random\n",
    "        new_x_r, new_con_r, new_y_r  = generate_initial_data(1)\n",
    "        new_x_r = normalize(new_x_r, bounds)\n",
    "        new_y_r, new_con_r = test_f(unnormalize(new_x_r, bounds= bounds))\n",
    "        train_Y_r = torch.cat([train_Y_r, new_y_r], dim = 0)\n",
    "        train_Con_r = torch.cat([train_Con_r, new_con_r], dim = 0)\n",
    "        vio_r = torch.where(train_Con_r < 0, -train_Con_r, torch.zeros_like(train_Con_r)).sum(dim = -1)\n",
    "        feasi_ind_r = vio_r == 0\n",
    "        hv_r = HV(Y = train_Y_r[feasi_ind_r, :], ref = thresholds)\n",
    "        Hpvr.append(hv_r)\n",
    "        print(f'round{batch+1}', 'CMOBO: ', hv, 'random: ', hv_r)\n",
    "    if not declared:\n",
    "        c+=1\n",
    "        torch.save(torch.tensor(Hpv), f'hv_design_cmobo_0.4_{c}.pt')\n",
    "        torch.save(torch.tensor(vio), f'vio_design_cmobo_0.4_{c}.pt')\n",
    "        torch.save(torch.tensor(Hpvr), f'hv_design_rand_{c}.pt')\n",
    "        torch.save(torch.tensor(vio_r), f'vio_design_rand_{c}.pt')\n",
    "        print('o', end='')\n",
    "    else:\n",
    "        print('*', end='')\n",
    "    declared = False"
   ]
  },
  {
   "cell_type": "code",
   "execution_count": 13,
   "metadata": {},
   "outputs": [
    {
     "name": "stdout",
     "output_type": "stream",
     "text": [
      "tensor([[-5.8673e+00,  3.6059e-02,  7.1640e-01,  8.6719e+04],\n",
      "        [ 6.6624e+00,  2.6144e-01,  8.8016e-01,  1.0641e+05],\n",
      "        [-7.4185e+00, -2.3628e-02,  6.3502e-01,  1.1964e+05],\n",
      "        [ 2.6430e+01,  3.4732e-01,  9.5393e-01,  7.4488e+04],\n",
      "        [ 9.9093e+00,  2.8913e-01,  9.1444e-01,  8.6010e+04],\n",
      "        [ 8.7079e+00,  2.7865e-01,  8.8202e-01,  1.1354e+05],\n",
      "        [-1.5579e+01, -1.4437e-01,  5.7209e-01,  5.4469e+04],\n",
      "        [ 1.7058e+01,  2.5837e-01,  8.7953e-01,  1.0164e+05],\n",
      "        [ 7.3569e+00,  3.2011e-01,  9.3520e-01,  4.6765e+04],\n",
      "        [ 1.1719e+01,  2.5258e-01,  8.6458e-01,  1.7293e+05]],\n",
      "       dtype=torch.float64)\n"
     ]
    }
   ],
   "source": [
    "print(train_Con)"
   ]
  },
  {
   "cell_type": "markdown",
   "metadata": {},
   "source": [
    "Simple HV"
   ]
  },
  {
   "cell_type": "code",
   "execution_count": 10,
   "metadata": {},
   "outputs": [
    {
     "data": {
      "text/plain": [
       "<matplotlib.legend.Legend at 0x12ff48610>"
      ]
     },
     "execution_count": 10,
     "metadata": {},
     "output_type": "execute_result"
    },
    {
     "data": {
      "image/png": "[encoded data removed]",
      "text/plain": [
       "<Figure size 640x480 with 1 Axes>"
      ]
     },
     "metadata": {},
     "output_type": "display_data"
    }
   ],
   "source": [
    "import matplotlib.pyplot as plt\n",
    "plt.plot(range(1, len(Hpv) + 1), Hpv)\n",
    "plt.plot(range(1, len(Hpvr) + 1), Hpvr)\n",
    "plt.legend(['CMOBO', 'Random'])"
   ]
  },
  {
   "cell_type": "code",
   "execution_count": 11,
   "metadata": {},
   "outputs": [
    {
     "data": {
      "text/plain": [
       "Text(0.5, 1.0, 'Cumulative Violation')"
      ]
     },
     "execution_count": 11,
     "metadata": {},
     "output_type": "execute_result"
    },
    {
     "data": {
      "image/png": "[encoded data removed]",
      "text/plain": [
       "<Figure size 640x480 with 1 Axes>"
      ]
     },
     "metadata": {},
     "output_type": "display_data"
    }
   ],
   "source": [
    "from metrics import cum_violation\n",
    "cum_vio = cum_violation(vio[10:])\n",
    "cum_vio_r=  cum_violation(vio_r[10:])\n",
    "plt.plot(range(1,101), cum_vio)\n",
    "plt.plot(range(1,101), cum_vio_r)\n",
    "plt.legend(['CMOBO', 'Random'])\n",
    "plt.title('Cumulative Violation')"
   ]
  },
  {
   "cell_type": "code",
   "execution_count": 12,
   "metadata": {},
   "outputs": [
    {
     "data": {
      "text/plain": [
       "<matplotlib.collections.PathCollection at 0x31887d120>"
      ]
     },
     "execution_count": 12,
     "metadata": {},
     "output_type": "execute_result"
    },
    {
     "data": {
      "image/png": "[encoded data removed]",
      "text/plain": [
       "<Figure size 640x480 with 1 Axes>"
      ]
     },
     "metadata": {},
     "output_type": "display_data"
    }
   ],
   "source": [
    "plt.scatter(train_Y[feasi_ind,:][:,0], train_Y[feasi_ind,:][:,1],s = 1)\n",
    "plt.scatter(train_Y[~feasi_ind,:][:,0], train_Y[~feasi_ind,:][:,1], s = 1)"
   ]
  }
 ],
 "metadata": {
  "kernelspec": {
   "display_name": "Python 3",
   "language": "python",
   "name": "python3"
  },
  "language_info": {
   "codemirror_mode": {
    "name": "ipython",
    "version": 3
   },
   "file_extension": ".py",
   "mimetype": "text/x-python",
   "name": "python",
   "nbconvert_exporter": "python",
   "pygments_lexer": "ipython3",
   "version": "3.10.6"
  }
 },
 "nbformat": 4,
 "nbformat_minor": 2
}

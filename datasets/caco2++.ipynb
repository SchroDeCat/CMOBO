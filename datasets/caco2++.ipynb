{
 "cells": [
  {
   "cell_type": "markdown",
   "metadata": {},
   "source": [
    "original caco2 data set consists of 906 molecule instances with corresponding SMILES representations and their permeability values.\n",
    "\n",
    "use `rdkit` amd `guache1` modules to acess five extra molecue representations as objectives and other features such as `ecfp_fingerprints` and `fragments` as domain."
   ]
  },
  {
   "cell_type": "code",
   "execution_count": 4,
   "metadata": {},
   "outputs": [],
   "source": [
    "from rdkit.Chem.rdFingerprintGenerator import GetMorganGenerator\n",
    "from rdkit.Chem import MolFromSmiles\n",
    "from rdkit.Chem import  QED\n",
    "from rdkit.Chem import  rdMolDescriptors\n",
    "import numpy as np\n",
    "import pandas as pd\n",
    "# from gauche.dataloader import DataLoaderMP\n",
    "from gauche.dataloader import MolPropLoader\n",
    "from gauche.representations.fingerprints import (\n",
    "    # ecfp_fingerprints,\n",
    "    fragments,\n",
    "    mqn_features,\n",
    "    )\n",
    "from gauche.representations.strings import bag_of_characters\n",
    "from gauche.representations.graphs import molecular_graphs"
   ]
  },
  {
   "cell_type": "markdown",
   "metadata": {},
   "source": [
    "finger prints\n",
    "\n",
    "shape: 910 by 2048"
   ]
  },
  {
   "cell_type": "code",
   "execution_count": 5,
   "metadata": {},
   "outputs": [],
   "source": [
    "original = pd.read_csv('Caco-2.csv')\n",
    "smiles = original['Drug']\n",
    "\n",
    "#molecule objects in rdkit\n",
    "molecules = [MolFromSmiles(s) for s in smiles]\n",
    "\n",
    "#define Morgen generator\n",
    "generator = GetMorganGenerator(radius = 3, fpSize = 2048)\n",
    "\n",
    "#get finger prints\n",
    "fps = [generator.GetFingerprint(mol) for mol in molecules]\n",
    "fps_array = np.array(fps)"
   ]
  },
  {
   "cell_type": "markdown",
   "metadata": {},
   "source": [
    "fragments\n",
    "\n",
    "shape: 910 by 85"
   ]
  },
  {
   "cell_type": "code",
   "execution_count": 6,
   "metadata": {},
   "outputs": [],
   "source": [
    "#return np.array \n",
    "frag = fragments(smiles= smiles)"
   ]
  },
  {
   "cell_type": "markdown",
   "metadata": {},
   "source": [
    "mqn feature\n",
    "\n",
    "910 by 42"
   ]
  },
  {
   "cell_type": "code",
   "execution_count": 7,
   "metadata": {},
   "outputs": [],
   "source": [
    "mqn = mqn_features(smiles= smiles)"
   ]
  },
  {
   "cell_type": "markdown",
   "metadata": {},
   "source": [
    "Synthesized Domain\n",
    "\n",
    "910 by 2175"
   ]
  },
  {
   "cell_type": "code",
   "execution_count": 8,
   "metadata": {},
   "outputs": [],
   "source": [
    "domain = np.concatenate((fps_array, frag, mqn), axis = 1)"
   ]
  },
  {
   "cell_type": "markdown",
   "metadata": {},
   "source": [
    "Targets"
   ]
  },
  {
   "cell_type": "markdown",
   "metadata": {},
   "source": [
    "QED score"
   ]
  },
  {
   "cell_type": "code",
   "execution_count": 9,
   "metadata": {},
   "outputs": [],
   "source": [
    "qed = np.array([QED.qed(mol) for mol in molecules]).reshape((910,-1))"
   ]
  },
  {
   "cell_type": "markdown",
   "metadata": {},
   "source": [
    "TPSA"
   ]
  },
  {
   "cell_type": "code",
   "execution_count": 10,
   "metadata": {},
   "outputs": [],
   "source": [
    "tpsa = np.array([rdMolDescriptors.CalcTPSA(mol) for mol in molecules]).reshape((910,-1))"
   ]
  },
  {
   "cell_type": "markdown",
   "metadata": {},
   "source": [
    "Permeability"
   ]
  },
  {
   "cell_type": "code",
   "execution_count": 11,
   "metadata": {},
   "outputs": [],
   "source": [
    "permeability = np.array(original['Y']).reshape((910,-1))"
   ]
  },
  {
   "cell_type": "markdown",
   "metadata": {},
   "source": [
    "Synthesized Target\n",
    "\n",
    "910 by 3"
   ]
  },
  {
   "cell_type": "code",
   "execution_count": 12,
   "metadata": {},
   "outputs": [],
   "source": [
    "target = np.concatenate((qed, tpsa, permeability), axis = 1)\n",
    "target_names = ['QED', 'TPSA', 'permeability']"
   ]
  },
  {
   "cell_type": "code",
   "execution_count": 13,
   "metadata": {},
   "outputs": [],
   "source": [
    "np.savetxt('target.csv', target, delimiter= ',',header = ','.join(target_names), fmt='%.8f', comments = '')"
   ]
  }
 ],
 "metadata": {
  "kernelspec": {
   "display_name": "Python 3",
   "language": "python",
   "name": "python3"
  },
  "language_info": {
   "codemirror_mode": {
    "name": "ipython",
    "version": 3
   },
   "file_extension": ".py",
   "mimetype": "text/x-python",
   "name": "python",
   "nbconvert_exporter": "python",
   "pygments_lexer": "ipython3",
   "version": "3.10.12"
  }
 },
 "nbformat": 4,
 "nbformat_minor": 2
}

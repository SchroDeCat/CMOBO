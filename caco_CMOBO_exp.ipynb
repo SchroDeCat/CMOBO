{
 "cells": [
  {
   "cell_type": "code",
   "execution_count": 31,
   "metadata": {},
   "outputs": [],
   "source": [
    "import math\n",
    "import numpy as np\n",
    "from botorch.utils import t_batch_mode_transform\n",
    "import torch\n",
    "from botorch.models.model_list_gp_regression import ModelListGP\n",
    "from botorch.models import  SingleTaskGP\n",
    "from botorch.fit import fit_gpytorch_mll\n",
    "from botorch.utils import standardize\n",
    "from gpytorch.mlls.sum_marginal_log_likelihood import SumMarginalLogLikelihood\n",
    "from botorch.acquisition import AnalyticAcquisitionFunction\n",
    "from botorch.acquisition.monte_carlo import MCAcquisitionFunction\n",
    "from botorch.acquisition.monte_carlo import AcquisitionFunction\n",
    "from botorch.optim.optimize import optimize_acqf_discrete\n",
    "from botorch.optim.initializers import gen_batch_initial_conditions\n",
    "from botorch.utils.transforms import normalize, unnormalize\n",
    "from botorch.models.transforms.outcome import Standardize\n",
    "\n",
    "#kernels\n",
    "from gpytorch.kernels import RBFKernel, MaternKernel, LinearKernel, ScaleKernel"
   ]
  },
  {
   "cell_type": "markdown",
   "metadata": {},
   "source": [
    "problem setting\n",
    "\n",
    "caco data set"
   ]
  },
  {
   "cell_type": "code",
   "execution_count": 32,
   "metadata": {},
   "outputs": [],
   "source": [
    "\n",
    "from botorch.utils.sampling import draw_sobol_samples\n",
    "target = torch.load('caco_target.pt')\n",
    "domain = torch.load('caco_domain.pt')\n",
    "\n",
    "\n",
    "import random\n",
    "def test_f(X: torch.Tensor, tensor: torch.Tensor) -> int:\n",
    "    # Compare the 1*d tensor (row) with each row in the n*d tensor\n",
    "    matches = (tensor == X).all(dim=1)\n",
    "    \n",
    "    # Find the index of the matching row\n",
    "    match_idx = torch.where(matches)[0][-1]\n",
    "    # If a match is found, return the index\n",
    "    \n",
    "    return match_idx.item()\n",
    "\n",
    "    # Stack the list of rows into a tensor and return it\n",
    "    output = torch.stack(output_rows)\n",
    "    return output\n",
    "def generate_initial_data(n):\n",
    "    # generate training data\n",
    "    ind = random.sample(range(target.shape[0]), n)\n",
    "    return ind\n",
    "\n",
    "ub = torch.max(domain, dim=0)[0]\n",
    "lb = torch.min(domain,dim = 0)[0]\n",
    "\n",
    "d = domain.shape[1]"
   ]
  },
  {
   "cell_type": "code",
   "execution_count": 33,
   "metadata": {},
   "outputs": [
    {
     "data": {
      "text/plain": [
       "torch.Size([909, 3])"
      ]
     },
     "execution_count": 33,
     "metadata": {},
     "output_type": "execute_result"
    }
   ],
   "source": [
    "target.shape"
   ]
  },
  {
   "cell_type": "markdown",
   "metadata": {},
   "source": [
    "acquisition"
   ]
  },
  {
   "cell_type": "code",
   "execution_count": 34,
   "metadata": {},
   "outputs": [],
   "source": [
    "from botorch.acquisition import AnalyticAcquisitionFunction\n",
    "import torch\n",
    "\n",
    "class HyperVolumeScalarizedUCB(AnalyticAcquisitionFunction):\n",
    "    def __init__(\n",
    "        self,\n",
    "        model,\n",
    "        beta: float,\n",
    "        theta: torch.Tensor,\n",
    "        ref: torch.Tensor,\n",
    "        maximize: bool = True,\n",
    "    ) -> None:\n",
    "        \"\"\"\n",
    "        Initializes the HyperVolume Scalarized Upper Confidence Bound Acquisition Function.\n",
    "\n",
    "        Args:\n",
    "            model: A BoTorch model representing the posterior distribution of the objectives.\n",
    "            beta (Tensor of shape [1] or [o]): The exploration-exploitation trade-off parameter(s).\n",
    "            theta (Tensor of shape [o]): The weights used for scalarizing the upper bounds, where `o` is the number of objectives.\n",
    "            maximize (bool): Whether to maximize or minimize the scalarized objective. Defaults to True (maximize).\n",
    "        \"\"\"\n",
    "        super(AnalyticAcquisitionFunction, self).__init__(model)\n",
    "        self.maximize = maximize\n",
    "        self.register_buffer(\"beta\", torch.as_tensor(beta))\n",
    "        self.register_buffer(\"theta\", torch.as_tensor(theta))\n",
    "        self.register_buffer(\"ref\", torch.as_tensor(ref))\n",
    "    @t_batch_mode_transform(expected_q=1)\n",
    "    def forward(self, X: torch.Tensor) -> torch.Tensor:\n",
    "        \"\"\"\n",
    "        Evaluate the scalarized Upper Confidence Bound on the candidate set X.\n",
    "\n",
    "        Args:\n",
    "            X (Tensor of shape [b, d]): A tensor containing `(b)` batches of `d`-dimensional design points.\n",
    "\n",
    "        Returns:\n",
    "            Tensor of shape [b]: A tensor containing the scalarized Upper Confidence Bound values for each batch.\n",
    "        \"\"\"\n",
    "        self.beta = self.beta.to(X)\n",
    "        self.theta = self.theta.to(X)\n",
    "        self.ref = self.ref.to(X)\n",
    "        posterior = self.model.posterior(X)\n",
    "        means = posterior.mean.squeeze(dim=-2)  # b x o\n",
    "        std_devs = posterior.variance.squeeze(dim=-2).sqrt()  # b x o\n",
    "        m = means.shape[1]\n",
    "        # Calculate upper confidence bounds for each objective\n",
    "        u_t = means + (self.beta.expand_as(means) * std_devs) - self.ref # b x o\n",
    "\n",
    "        # Apply the scalarization function to the upper bounds\n",
    "        scalarized_ut = torch.min(torch.max(torch.zeros_like(u_t), u_t / self.theta) ** m, dim=-1)[0]  # b\n",
    "\n",
    "        return scalarized_ut\n"
   ]
  },
  {
   "cell_type": "markdown",
   "metadata": {},
   "source": [
    "Auxiliary Acq"
   ]
  },
  {
   "cell_type": "code",
   "execution_count": 35,
   "metadata": {},
   "outputs": [],
   "source": [
    "class AuxiliaryAcq(MCAcquisitionFunction):\n",
    "    def __init__(\n",
    "        self,\n",
    "        model,\n",
    "        beta: float,\n",
    "        theta: torch.Tensor,\n",
    "        ref: torch.Tensor,\n",
    "        maximize: bool = True,\n",
    "    ) -> None:\n",
    "        \"\"\"\n",
    "        An auxiliary acquisition defined in Algo.2\n",
    "\n",
    "        Args:\n",
    "            model: A BoTorch model representing the posterior distribution of the objectives.\n",
    "            beta (Tensor of shape [1] or [o]): The exploration-exploitation trade-off parameter(s).\n",
    "            theta (Tensor of shape [o]): The weights used for scalarizing the upper bounds, where `o` is the number of objectives.\n",
    "            maximize (bool): Whether to maximize or minimize the scalarized objective. Defaults to True (maximize).\n",
    "        \"\"\"\n",
    "        super(MCAcquisitionFunction, self).__init__(model)\n",
    "        self.maximize = maximize\n",
    "        self.register_buffer(\"beta\", torch.as_tensor(beta))\n",
    "        self.register_buffer(\"theta\", torch.as_tensor(theta))\n",
    "        self.register_buffer(\"ref\", torch.as_tensor(ref))\n",
    "    @t_batch_mode_transform()\n",
    "    def forward(self, X: torch.Tensor) -> torch.Tensor:\n",
    "        \"\"\"\n",
    "        Evaluate the scalarized Upper Confidence Bound on the candidate set X.\n",
    "\n",
    "        Args:\n",
    "            X (Tensor of shape [b, d]): A tensor containing `(b)` batches of `d`-dimensional design points.\n",
    "\n",
    "        Returns:\n",
    "            Tensor of shape [b]: A tensor containing the scalarized Upper Confidence Bound values for each batch.\n",
    "        \"\"\"\n",
    "        self.beta = self.beta.to(X)\n",
    "        self.theta = self.theta.to(X)\n",
    "        self.ref = self.ref.to(X)\n",
    "        posterior = self.model.posterior(X)\n",
    "        #print(posterior.mean.shape)\n",
    "        means = posterior.mean  # b x q x o\n",
    "        std_devs = posterior.variance.sqrt()  # b x q x o\n",
    "        # Calculate upper confidence bounds for each objective\n",
    "        u_t = means + (self.beta.expand_as(means) * std_devs) - self.ref # b x qx o\n",
    "        #print('233', u_t.shape)\n",
    "\n",
    "        # Apply the scalarization function to the upper bounds\n",
    "        scalarized_ut = torch.min(torch.min(u_t, dim=-1)[0], dim=-1)[0]  # b\n",
    "        return scalarized_ut\n"
   ]
  },
  {
   "cell_type": "markdown",
   "metadata": {},
   "source": [
    "constraints"
   ]
  },
  {
   "cell_type": "code",
   "execution_count": 36,
   "metadata": {},
   "outputs": [],
   "source": [
    "import torch\n",
    "from typing import List, Tuple, Callable\n",
    "\n",
    "def create_ucb_constraints(model, beta: float, thresholds: torch.Tensor):\n",
    "    \"\"\"\n",
    "    Creates a list of non-linear inequality constraints for a multi-output GP model, ensuring that the upper confidence\n",
    "    bounds of the model's outputs are greater than or equal to the specified thresholds.\n",
    "\n",
    "    Args:\n",
    "        model (MultiTaskGP): A multi-output Gaussian Process model.\n",
    "        beta (float): The scalar coefficient for the variance component of the UCB.\n",
    "        thresholds (torch.Tensor): A tensor of thresholds for each output dimension.\n",
    "\n",
    "    Returns:\n",
    "        List[Tuple[Callable, bool]]: A list of tuples, each containing a callable constraint and a boolean indicating\n",
    "                                      whether the constraint is intra-point (True) or inter-point (False). Each callable\n",
    "                                      takes a tensor `X` of shape [q, d] (where `d` is the dimension of the input space\n",
    "                                      and `q` can be 1 or more representing different design points) and returns a scalar\n",
    "                                      that should be non-negative if the constraint is satisfied.\n",
    "    \"\"\"\n",
    "    \n",
    "    def constraint(X):\n",
    "        \"\"\"\n",
    "        Evaluates all constraints for a batch of design points.\n",
    "\n",
    "        Args:\n",
    "            X (torch.Tensor): A tensor of shape [q, d] (where `d` is the dimension of the input space and `q` can be 1 or more \n",
    "                              representing different design points).\n",
    "\n",
    "        Returns:\n",
    "            torch.Tensor: A tensor of shape [q, m] (where `m` is the number of output dimensions) containing the evaluated \n",
    "                          constraints.\n",
    "        \"\"\"\n",
    "        # Compute posterior at X\n",
    "        X = X.unsqueeze(0)\n",
    "        posterior = model.posterior(X)\n",
    "        mean = posterior.mean\n",
    "        variance = posterior.variance\n",
    "        ucb = mean + beta * variance.sqrt()  # Compute the UCB\n",
    "\n",
    "        # Evaluate all constraints and return the difference from thresholds\n",
    "        return ucb - thresholds\n",
    "\n",
    "    # Create a list of constraints for each output dimension, all set as intra-point since they evaluate individually\n",
    "    constraints = [(lambda X, i=i: constraint(X)[:, i], True) for i in range(thresholds.size(0))]\n",
    "\n",
    "    return constraints\n"
   ]
  },
  {
   "cell_type": "code",
   "execution_count": 37,
   "metadata": {},
   "outputs": [],
   "source": [
    "def get_random_sample_on_n_sphere(N, R):\n",
    "    # Return a single sample of a vector of dimension N\n",
    "    # with a uniform distribution on the (N-1)-Sphere surface of radius R.\n",
    "    # RATIONALE: https://mathworld.wolfram.com/HyperspherePointPicking.html\n",
    "    \n",
    "    # Generate a normally distributed point\n",
    "    X = torch.randn(N)\n",
    "\n",
    "    # Normalize this point to the surface of the sphere, then scale by radius R\n",
    "    return R * X / torch.norm(X)"
   ]
  },
  {
   "cell_type": "markdown",
   "metadata": {},
   "source": [
    "BO loop\n",
    "\n",
    "take thresholds to be: -1.9, -2.25"
   ]
  },
  {
   "cell_type": "markdown",
   "metadata": {},
   "source": [
    "kernel picking"
   ]
  },
  {
   "cell_type": "code",
   "execution_count": 38,
   "metadata": {},
   "outputs": [],
   "source": [
    "from metrics import HV, violation\n",
    "from gauche.kernels.fingerprint_kernels.tanimoto_kernel import TanimotoKernel\n",
    "base = TanimotoKernel()\n",
    "covar_module = ScaleKernel(\n",
    "base_kernel=base,\n",
    ")"
   ]
  },
  {
   "cell_type": "code",
   "execution_count": 39,
   "metadata": {},
   "outputs": [
    {
     "name": "stdout",
     "output_type": "stream",
     "text": [
      "00000000000000000000000000000000000000000000000000\n"
     ]
    }
   ],
   "source": [
    "import warnings\n",
    "\n",
    "warnings.filterwarnings('ignore')\n",
    "import time\n",
    "c = 0\n",
    "noise = 0.005\n",
    "print('0'*50)\n",
    "random_seeds = [83810, 14592, 3278, 97196, 36048, 32098, 29256, 18289, 96530, 13434, 88696, 97080, 71482, 11395, 77397, 55302, 4165, 3905, 12280, 28657, 30495, 66237, 78907, 3478, 73563,\n",
    "26062, 93850, 85181, 91924, 71426, 54987, 28893, 58878, 77236, 36463, 851, 99458, 20926, 91506, 55392, 44597, 36421, 20379, 28221, 44118, 13396, 12156, 49797, 12676, 47052]\n",
    "declared = False\n",
    "for seed in random_seeds[:10]:\n",
    "    target = torch.load('caco_target.pt')\n",
    "    domain = torch.load('caco_domain.pt')\n",
    "    torch.manual_seed(seed)\n",
    "    ind = generate_initial_data(64)\n",
    "    c+=1\n",
    "    torch.save(ind, f'ind_{c}.pt')\n",
    "    continue\n",
    "    train_X = domain[ind,:]\n",
    "    train_Y = target[ind, :]\n",
    "    train_Xr = domain[ind,:]\n",
    "    train_Yr = target[ind, :]\n",
    "    '''mask = [True]*target.shape[0]\n",
    "    mask[tuple(ind)] = False\n",
    "    target = target[mask,:]\n",
    "    domain = domain[mask,:]'''\n",
    "    thresholds = torch.tensor([0.5, 80, -5], dtype= torch.float64)\n",
    "    Hpv = []\n",
    "    Hpvr = []\n",
    "    Acq = []\n",
    "    print(f'round:0 {HV(Y = train_Y, ref = thresholds)}')\n",
    "    NUM_ITER = 60\n",
    "    for batch in range(NUM_ITER):\n",
    "        # model_list = []\n",
    "        # m = 3\n",
    "        # for i in range(m):\n",
    "        #     current_model = SingleTaskGP(train_X= train_X, train_Y= train_Y[:, i].unsqueeze(-1), outcome_transform= Standardize(m = 1), train_Yvar= torch.zeros((train_X.shape[0],1)) + noise**2, covar_module= covar_module)\n",
    "        #     model_list.append(current_model)\n",
    "        # model = ModelListGP(*model_list)\n",
    "        # mll = SumMarginalLogLikelihood(model.likelihood, model)\n",
    "        # fit_gpytorch_mll(mll)\n",
    "        # #t1 = time.monotonic()\n",
    "        # #sample theta from distribution\n",
    "        # theta = get_random_sample_on_n_sphere(m,1).abs()\n",
    "        # beta = 0.15 * math.log(1+batch)\n",
    "        # beta_const = beta\n",
    "\n",
    "        # #auxiliary acquisition\n",
    "        # def const(X):\n",
    "        #     posterior = model.posterior(X)\n",
    "        #     mean = posterior.mean\n",
    "        #     variance = posterior.variance\n",
    "        #     ucb_const = mean + beta_const * variance.sqrt()\n",
    "        #     ucb_const = ucb_const\n",
    "        #     return ucb_const\n",
    "        # vio = violation(const(domain), thresholds)\n",
    "        # feasi_ind = (vio == 0)\n",
    "\n",
    "        # #t2 = time.monotonic()\n",
    "        # #create acquisition function\n",
    "        # HVUCB = HyperVolumeScalarizedUCB(model= model, beta= torch.tensor(beta), theta = theta, ref= thresholds)\n",
    "        # #optimize constraint function\n",
    "        # candidate, acq_scalar = optimize_acqf_discrete(\n",
    "        #     acq_function = HVUCB,\n",
    "        #     q = 1,\n",
    "        #     choices = domain[feasi_ind,:]\n",
    "        # )\n",
    "        candidater = domain[random.sample(range(target.shape[0]), 1)[0],:].unsqueeze(0)\n",
    "        #t3 = time.monotonic()\n",
    "        #update data\n",
    "        # train_X = torch.cat([train_X, candidate],dim=0)\n",
    "        # train_Y = torch.cat([train_Y, target[test_f(candidate, domain),:].unsqueeze(0)], dim = 0)\n",
    "        train_Xr = torch.cat([train_Xr, candidater],dim=0)\n",
    "        train_Yr = torch.cat([train_Yr, target[test_f(candidater, domain),:].unsqueeze(0)], dim = 0)\n",
    "        # hv = HV(Y = train_Y, ref = thresholds)\n",
    "        hvr = HV(Y = train_Yr, ref = thresholds)\n",
    "        # print(f'round: {batch+1}', hv, test_f(candidate, domain), hvr)\n",
    "        # Hpv.append(hv)\n",
    "        Hpvr.append(hvr)\n",
    "        # Acq.append(acq_scalar)\n",
    "        ###prune candidate###\n",
    "        mask = torch.tensor([True]*target.shape[0])\n",
    "        mask[test_f(candidater, domain)] = False\n",
    "        domain = domain[mask, :]\n",
    "        target = target[mask, :]\n",
    "        ####################\n",
    "    if not declared:\n",
    "        c+=1\n",
    "        # torch.save(torch.tensor(Hpv), f'hv_caco_0.15_{c}.pt')\n",
    "        # torch.save(torch.tensor(Hpvr), f'hv_random_caco_0.15_{c}.pt')\n",
    "        # torch.save(train_Y, f'obj_caco_0.15_{c}.pt')\n",
    "        torch.save(train_Yr, f'obj_caco_rand_{c}.pt')\n",
    "        print('o', end='')\n",
    "    else:\n",
    "        print('*', end='')\n",
    "    declared = False"
   ]
  },
  {
   "cell_type": "markdown",
   "metadata": {},
   "source": [
    "demonstration"
   ]
  },
  {
   "cell_type": "code",
   "execution_count": 40,
   "metadata": {},
   "outputs": [
    {
     "ename": "NameError",
     "evalue": "name 'train_Y' is not defined",
     "output_type": "error",
     "traceback": [
      "\u001b[0;31m---------------------------------------------------------------------------\u001b[0m",
      "\u001b[0;31mNameError\u001b[0m                                 Traceback (most recent call last)",
      "Cell \u001b[0;32mIn[40], line 8\u001b[0m\n\u001b[1;32m      6\u001b[0m m \u001b[38;5;241m=\u001b[39m pair[\u001b[38;5;241m0\u001b[39m]\n\u001b[1;32m      7\u001b[0m n\u001b[38;5;241m=\u001b[39m pair[\u001b[38;5;241m1\u001b[39m]\n\u001b[0;32m----> 8\u001b[0m ax[i]\u001b[38;5;241m.\u001b[39mscatter(\u001b[43mtrain_Y\u001b[49m[:\u001b[38;5;241m64\u001b[39m,m], train_Y[:\u001b[38;5;241m64\u001b[39m,n], s \u001b[38;5;241m=\u001b[39m \u001b[38;5;241m1\u001b[39m,c \u001b[38;5;241m=\u001b[39m \u001b[38;5;124m'\u001b[39m\u001b[38;5;124mgreen\u001b[39m\u001b[38;5;124m'\u001b[39m)\n\u001b[1;32m      9\u001b[0m ax[i]\u001b[38;5;241m.\u001b[39mscatter(train_Y[\u001b[38;5;241m65\u001b[39m:,m], train_Y[\u001b[38;5;241m65\u001b[39m:,n], s \u001b[38;5;241m=\u001b[39m \u001b[38;5;241m1\u001b[39m, c \u001b[38;5;241m=\u001b[39m \u001b[38;5;124m'\u001b[39m\u001b[38;5;124mblue\u001b[39m\u001b[38;5;124m'\u001b[39m)\n\u001b[1;32m     10\u001b[0m ax[i]\u001b[38;5;241m.\u001b[39mscatter(target[:,m], target[:,n], s \u001b[38;5;241m=\u001b[39m \u001b[38;5;241m0.5\u001b[39m, c \u001b[38;5;241m=\u001b[39m \u001b[38;5;124m'\u001b[39m\u001b[38;5;124mpink\u001b[39m\u001b[38;5;124m'\u001b[39m, alpha \u001b[38;5;241m=\u001b[39m \u001b[38;5;241m0.5\u001b[39m)\n",
      "\u001b[0;31mNameError\u001b[0m: name 'train_Y' is not defined"
     ]
    },
    {
     "data": {
      "image/png": "[encoded data removed]",
      "text/plain": [
       "<Figure size 3000x1000 with 3 Axes>"
      ]
     },
     "metadata": {},
     "output_type": "display_data"
    }
   ],
   "source": [
    "import matplotlib.pyplot as plt\n",
    "pairs = [[0,1], [0,2], [1,2]]\n",
    "thresholds = [0.5, 80, -5]\n",
    "fig, ax = plt.subplots(1,3, figsize = (30,10))\n",
    "for i,pair in enumerate(pairs):\n",
    "    m = pair[0]\n",
    "    n= pair[1]\n",
    "    ax[i].scatter(train_Y[:64,m], train_Y[:64,n], s = 1,c = 'green')\n",
    "    ax[i].scatter(train_Y[65:,m], train_Y[65:,n], s = 1, c = 'blue')\n",
    "    ax[i].scatter(target[:,m], target[:,n], s = 0.5, c = 'pink', alpha = 0.5)\n",
    "    ax[i].plot([thresholds[m],thresholds[m]+0.5*thresholds[m]], [thresholds[n],thresholds[n]], c = 'red')\n",
    "    ax[i].plot([thresholds[m],thresholds[m]], [thresholds[n],thresholds[n]+0.5*abs(thresholds[n])], c = 'red')\n"
   ]
  },
  {
   "cell_type": "code",
   "execution_count": 20,
   "metadata": {},
   "outputs": [
    {
     "data": {
      "text/plain": [
       "[<matplotlib.lines.Line2D at 0x7f96f5d595d0>]"
      ]
     },
     "execution_count": 20,
     "metadata": {},
     "output_type": "execute_result"
    },
    {
     "data": {
      "image/png": "[encoded data removed]",
      "text/plain": [
       "<Figure size 640x480 with 1 Axes>"
      ]
     },
     "metadata": {},
     "output_type": "display_data"
    }
   ],
   "source": [
    "plt.plot(range(1, len(Hpv)+1), Hpv)\n",
    "plt.plot(range(1, len(Hpvr)+1), Hpvr)"
   ]
  },
  {
   "cell_type": "code",
   "execution_count": 21,
   "metadata": {},
   "outputs": [
    {
     "ename": "NameError",
     "evalue": "name 'model' is not defined",
     "output_type": "error",
     "traceback": [
      "\u001b[0;31m---------------------------------------------------------------------------\u001b[0m",
      "\u001b[0;31mNameError\u001b[0m                                 Traceback (most recent call last)",
      "Cell \u001b[0;32mIn[21], line 2\u001b[0m\n\u001b[1;32m      1\u001b[0m \u001b[38;5;28;01mwith\u001b[39;00m torch\u001b[38;5;241m.\u001b[39mno_grad():    \n\u001b[0;32m----> 2\u001b[0m     mean \u001b[38;5;241m=\u001b[39m \u001b[43mmodel\u001b[49m\u001b[38;5;241m.\u001b[39mposterior(domain)\u001b[38;5;241m.\u001b[39mmean\n\u001b[1;32m      3\u001b[0m pairs \u001b[38;5;241m=\u001b[39m [[\u001b[38;5;241m0\u001b[39m,\u001b[38;5;241m1\u001b[39m], [\u001b[38;5;241m0\u001b[39m,\u001b[38;5;241m2\u001b[39m], [\u001b[38;5;241m1\u001b[39m,\u001b[38;5;241m2\u001b[39m]]\n\u001b[1;32m      4\u001b[0m thresholds \u001b[38;5;241m=\u001b[39m [\u001b[38;5;241m0.5\u001b[39m, \u001b[38;5;241m80\u001b[39m, \u001b[38;5;241m-\u001b[39m\u001b[38;5;241m5\u001b[39m]\n",
      "\u001b[0;31mNameError\u001b[0m: name 'model' is not defined"
     ]
    }
   ],
   "source": [
    "with torch.no_grad():    \n",
    "    mean = model.posterior(domain).mean\n",
    "pairs = [[0,1], [0,2], [1,2]]\n",
    "thresholds = [0.5, 80, -5]\n",
    "fig, ax = plt.subplots(1,3, figsize = (30,10))\n",
    "for i,pair in enumerate(pairs):\n",
    "    m = pair[0]\n",
    "    n= pair[1]\n",
    "    ax[i].scatter(mean[:,m], mean[:,n], s = 1,c = 'green')\n",
    "    ax[i].scatter(target[:,m], target[:,n], s = 0.5, c = 'pink', alpha = 0.5)\n",
    "    ax[i].plot([thresholds[m],thresholds[m]+0.5*thresholds[m]], [thresholds[n],thresholds[n]], c = 'red')\n",
    "    ax[i].plot([thresholds[m],thresholds[m]], [thresholds[n],thresholds[n]+0.5*abs(thresholds[n])], c = 'red')\n"
   ]
  },
  {
   "cell_type": "code",
   "execution_count": null,
   "metadata": {},
   "outputs": [
    {
     "data": {
      "text/plain": [
       "<matplotlib.collections.PolyCollection at 0x7fee6a10f8b0>"
      ]
     },
     "execution_count": 75,
     "metadata": {},
     "output_type": "execute_result"
    },
    {
     "data": {
      "image/png": "[encoded data removed]",
      "text/plain": [
       "<Figure size 640x480 with 1 Axes>"
      ]
     },
     "metadata": {},
     "output_type": "display_data"
    }
   ],
   "source": [
    "N = 10\n",
    "data = torch.zeros((N,60))\n",
    "data_01 = torch.zeros((N,60))\n",
    "data_qpar = torch.zeros((N,60))\n",
    "data_r = torch.zeros((N,60))\n",
    "for i in range(N):\n",
    "    data[i,:] = torch.load(f'hv_caco_0.05{i+1}.pt')\n",
    "    data_01[i,:] = torch.load(f'hv_caco_0.1_{i+1}.pt')\n",
    "    data_qpar[i,:] = torch.load(f'hv_qparego_caco_{i+1}.pt')[1:]\n",
    "    data_r[i,:] = torch.load(f'hv_random_caco_0.1_{i+1}.pt')\n",
    "mean = data.mean(dim = 0)\n",
    "std = data.std(dim = 0)\n",
    "mean_01 = data_01.mean(dim = 0)\n",
    "std_01 = data_01.std(dim = 0)\n",
    "mean_qpar = data_qpar.mean(dim = 0)\n",
    "std_qpar = data_qpar.std(dim = 0)\n",
    "mean_r = data_r.mean(dim = 0)\n",
    "std_r = data_r.std(dim = 0)\n",
    "plt.plot(range(1,1+len(mean)), mean)\n",
    "plt.plot(range(1,1+len(mean_01)), mean_01)\n",
    "plt.plot(range(1,1+len(mean_qpar)), mean_qpar)\n",
    "plt.plot(range(1,1+len(mean_r)), mean_r)\n",
    "plt.legend(['CMOBO:0.05', 'CMOBO:0.1', 'ParEgo', 'random'])\n",
    "plt.fill_between(range(1,1+len(mean)), mean + 0.1 *std, mean - 0.1 *std, alpha = 0.5)\n",
    "plt.fill_between(range(1,1+len(mean_01)), mean_01 + 0.1 *std_01, mean_01 - 0.1 *std_01, alpha = 0.5)\n",
    "plt.fill_between(range(1,1+len(mean_qpar)), mean_qpar + 0.1 *std_qpar, mean_qpar - 0.1 *std_qpar, alpha = 0.5)\n",
    "plt.fill_between(range(1,1+len(mean_r)), mean_r + 0.1 *std_r, mean_r - 0.1 *std_r, alpha = 0.5)"
   ]
  },
  {
   "cell_type": "code",
   "execution_count": null,
   "metadata": {},
   "outputs": [],
   "source": [
    "random_seeds[:10]"
   ]
  }
 ],
 "metadata": {
  "kernelspec": {
   "display_name": "Python 3",
   "language": "python",
   "name": "python3"
  },
  "language_info": {
   "codemirror_mode": {
    "name": "ipython",
    "version": 3
   },
   "file_extension": ".py",
   "mimetype": "text/x-python",
   "name": "python",
   "nbconvert_exporter": "python",
   "pygments_lexer": "ipython3",
   "version": "3.10.6"
  }
 },
 "nbformat": 4,
 "nbformat_minor": 2
}

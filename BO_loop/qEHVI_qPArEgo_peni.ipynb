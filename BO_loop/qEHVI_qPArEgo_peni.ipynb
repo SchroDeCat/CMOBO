{
  "cells": [
    {
      "cell_type": "markdown",
      "metadata": {
        "originalKey": "20bce0d3-6ea0-4db3-bc3b-2569027a0e3b",
        "showInput": false
      },
      "source": [
        "## Constrained, Parallel, Multi-Objective BO in BoTorch with qNEHVI, and qParEGO\n",
        "\n",
        "In this tutorial, we illustrate how to implement a constrained multi-objective (MO) Bayesian Optimization (BO) closed loop in BoTorch.\n",
        "\n",
        "In general, we recommend using [Ax](https://ax.dev) for a simple BO setup like this one, since this will simplify your setup (including the amount of code you need to write) considerably. See [here](https://ax.dev/tutorials/multiobjective_optimization.html) for an Ax tutorial on MOBO. If desired, you can use a custom BoTorch model in Ax, following the [Using BoTorch with Ax](./custom_botorch_model_in_ax) tutorial. Given a `MultiObjective`, Ax will default to the $q$NEHVI acquisiton function. If desired, this can also be customized by adding `\"botorch_acqf_class\": <desired_botorch_acquisition_function_class>,` to the `model_kwargs`.\n",
        "\n",
        "We use the parallel ParEGO ($q$ParEGO) [1] and parallel Noisy Expected Hypervolume Improvement ($q$NEHVI) [2]  acquisition functions to optimize a synthetic C2-DTLZ2 test function with $M=2$ objectives, $V=1$ constraint, and $d=4$ parameters. The two objectives are\n",
        "$$f_1(\\mathbf x) = (1+ g(\\mathbf x_M))\\cos\\big(\\frac{\\pi}{2}x_1\\big)$$\n",
        "$$f_2(\\mathbf x) = (1+ g(\\mathbf x_M))\\sin\\big(\\frac{\\pi}{2}x_1\\big)$$\n",
        "where $g(\\mathbf x) = \\sum_{x_i \\in \\mathbf x_M} (x_i - 0.5)^2, \\mathbf x \\in [0,1]^d,$ and $\\mathbf x_M$ represents the last $d - M +1$ elements of $\\mathbf x$. Additionally, the C2-DTLZ2 problem uses the following constraint:\n",
        "\n",
        "$$c(\\mathbf x) = - \\min \\bigg[\\min_{i=1}^M\\bigg((f_i(\\mathbf x) -1 )^2 + \\sum_{j=1, j=i}^M (f_j^2 - r^2) \\bigg), \\bigg(\\sum_{i=1}^M \\big((f_i(\\mathbf x) - \\frac{1}{\\sqrt{M}})^2 - r^2\\big)\\bigg)\\bigg]\\geq 0$$\n",
        "\n",
        "where $\\mathbf x \\in [0,1]^d$ and $r=0.2$. \n",
        "\n",
        "The goal here is to *minimize* both objectives. Since BoTorch assumes maximization, we maximize the negative of each objective. Since there typically is no single best solution in multi-objective optimization problems, we seek to find the pareto frontier, the set of optimal trade-offs where improving one metric means deteriorating another.\n",
        "\n",
        "[1] [S. Daulton, M. Balandat, and E. Bakshy. Differentiable Expected Hypervolume Improvement for Parallel Multi-Objective Bayesian Optimization. Advances in Neural Information Processing Systems 33, 2020.](https://arxiv.org/abs/2006.05078)\n",
        "\n",
        "[2] [S. Daulton, M. Balandat, and E. Bakshy. Parallel Bayesian Optimization of Multiple Noisy Objectives with Expected Hypervolume Improvement. Advances in Neural Information Processing Systems 34, 2021.](https://arxiv.org/abs/2105.08195)\n",
        "\n",
        "**For batch optimization (or in noisy settings), we strongly recommend using $q$NEHVI rather than $q$EHVI [1] because it is far more efficient than $q$EHVI and mathematically equivalent in the noiseless setting.**"
      ]
    },
    {
      "cell_type": "markdown",
      "metadata": {
        "originalKey": "00d9f0ef-fab6-463e-a54d-a548581bc7f4",
        "showInput": false
      },
      "source": [
        "### Set dtype and device\n",
        "Note: $q$EHVI aggressively exploits parallel hardware and is much faster when run on a GPU. See [1] for details."
      ]
    },
    {
      "cell_type": "code",
      "execution_count": 121,
      "metadata": {
        "customOutput": null,
        "executionStartTime": 1668651350300,
        "executionStopTime": 1668651350308,
        "originalKey": "f27224aa-b567-4a6d-b6b3-74f2ecbfe319",
        "requestMsgId": "df1b7814-2d71-4421-b832-e10d0c1e7743"
      },
      "outputs": [],
      "source": [
        "import os\n",
        "import torch\n",
        "\n",
        "\n",
        "tkwargs = {\n",
        "    \"dtype\": torch.double,\n",
        "    \"device\": torch.device(\"cuda:3\" if torch.cuda.is_available() else \"cpu\"),\n",
        "}\n",
        "SMOKE_TEST = os.environ.get(\"SMOKE_TEST\")"
      ]
    },
    {
      "cell_type": "markdown",
      "metadata": {
        "originalKey": "89f8b99f-5cb2-45c9-9df6-7e1d18d4f8c6",
        "showInput": false
      },
      "source": [
        "### Problem setup\n"
      ]
    },
    {
      "cell_type": "code",
      "execution_count": 122,
      "metadata": {
        "customOutput": null,
        "executionStartTime": 1668651350608,
        "executionStopTime": 1668651354486,
        "originalKey": "4227f250-60b5-4c97-b04c-3cfe7a1c410a",
        "requestMsgId": "83e67907-72c3-4bb8-8468-7eb99e616730"
      },
      "outputs": [],
      "source": [
        "from botorch.test_functions.multi_objective import Penicillin\n",
        "\n",
        "problem = Penicillin(negate= True).to(**tkwargs)\n",
        "problem.bounds = torch.tensor([[60,10,293,10,0.01,600,5],[120, 18, 303, 18, 0.1, 700, 6.5]], dtype= torch.float64)\n",
        "d = 7\n",
        "M = 3\n"
      ]
    },
    {
      "cell_type": "code",
      "execution_count": null,
      "metadata": {},
      "outputs": [],
      "source": []
    },
    {
      "cell_type": "code",
      "execution_count": 123,
      "metadata": {},
      "outputs": [],
      "source": [
        "#need a evaluate_slack function\n",
        "def evaluate_slack(X, ref = torch.tensor([10, -60, -350]).to(**tkwargs)):\n",
        "    Y = problem(X)\n",
        "    vio_raw = Y -ref\n",
        "    return (vio_raw).sum(dim = -1, keepdim = True)"
      ]
    },
    {
      "cell_type": "markdown",
      "metadata": {
        "code_folding": [],
        "hidden_ranges": [],
        "originalKey": "2de9fbab-9d15-4410-8371-d3b1f730e3d7",
        "showInput": false
      },
      "source": [
        "#### Model initialization\n",
        "\n",
        "We use a multi-output `SingleTaskGP` to model the two objectives with a homoskedastic Gaussian likelihood with an inferred noise level.\n",
        "\n",
        "The models are initialized with $2(d+1)=10$ points drawn randomly from $[0,1]^{4}$."
      ]
    },
    {
      "cell_type": "markdown",
      "metadata": {},
      "source": [
        "- mean: [-0.3820, 0.2300, 0.4253]\n",
        "- lengthscale: 0.2439"
      ]
    },
    {
      "cell_type": "code",
      "execution_count": 124,
      "metadata": {
        "code_folding": [],
        "customOutput": null,
        "executionStartTime": 1668651354720,
        "executionStopTime": 1668651354729,
        "hidden_ranges": [],
        "originalKey": "192b8d87-b2e3-4223-b193-6399b8643391",
        "requestMsgId": "55d97599-5be9-4a7a-857c-18a9b56bf07d"
      },
      "outputs": [],
      "source": [
        "from botorch.models.gp_regression import SingleTaskGP\n",
        "from botorch.models.model_list_gp_regression import ModelListGP\n",
        "from botorch.models.transforms.outcome import Standardize\n",
        "from botorch.utils.sampling import draw_sobol_samples\n",
        "from botorch.utils.transforms import normalize, unnormalize\n",
        "from gpytorch.mlls.sum_marginal_log_likelihood import SumMarginalLogLikelihood\n",
        "from gpytorch.kernels import RBFKernel, ScaleKernel, MaternKernel\n",
        "\n",
        "base = RBFKernel()\n",
        "covar_module = ScaleKernel(\n",
        "base_kernel=base,\n",
        ")\n",
        "def generate_initial_data(n):\n",
        "    # generate training data\n",
        "    train_x = draw_sobol_samples(bounds=problem.bounds, n=n, q=1).squeeze(1)\n",
        "    train_obj = problem(train_x)\n",
        "    # negative values imply feasibility in botorch\n",
        "    train_con = -evaluate_slack(train_x)\n",
        "    return train_x, train_obj, train_con\n",
        "\n",
        "\n",
        "def initialize_model(train_x, train_obj, train_con):\n",
        "    # define models for objective and constraint\n",
        "    train_x = normalize(train_x, problem.bounds)\n",
        "    train_y = torch.cat([train_obj, train_con], dim=-1)\n",
        "    models = []\n",
        "    for i in range(train_y.shape[-1]):\n",
        "        models.append(\n",
        "            SingleTaskGP(\n",
        "                train_x, train_y[..., i : i + 1], outcome_transform=Standardize(m=1), covar_module = covar_module, train_Yvar= torch.zeros((train_x.shape[0],1)) + 0.01**2\n",
        "            )\n",
        "        )\n",
        "    model = ModelListGP(*models)\n",
        "    mll = SumMarginalLogLikelihood(model.likelihood, model)\n",
        "    return mll, model"
      ]
    },
    {
      "cell_type": "markdown",
      "metadata": {
        "code_folding": [],
        "hidden_ranges": [],
        "originalKey": "a0f6fa02-0843-4c45-8a19-8654226c1edc",
        "showInput": false
      },
      "source": [
        "#### Define a helper function that performs the essential BO step for $q$NEHVI\n",
        "The helper function below initializes the $q$NEHVI acquisition function, optimizes it, and returns the batch $\\{x_1, x_2, \\ldots x_q\\}$ along with the observed function values. \n",
        "\n",
        "For this example, we'll use a small batch of $q=2$. Passing the keyword argument `sequential=True` to the function `optimize_acqf`specifies that candidates should be optimized in a sequential greedy fashion (see [1] for details why this is important). A simple initialization heuristic is used to select the 10 restart initial locations from a set of 512 random points. Multi-start optimization of the acquisition function is performed using LBFGS-B with exact gradients computed via auto-differentiation.\n",
        "\n",
        "**Reference Point**\n",
        "\n",
        "$q$NEHVI requires specifying a reference point, which is the lower bound on the objectives used for computing hypervolume. In this tutorial, we assume the reference point is known. In practice the reference point can be set 1) using domain knowledge to be slightly worse than the lower bound of objective values, where the lower bound is the minimum acceptable value of interest for each objective, or 2) using a dynamic reference point selection strategy.\n",
        "\n",
        "**Integrating over function values at in-sample designs**\n",
        "\n",
        "$q$NEHVI integrates over the unknown function values at the previously evaluated designs (see [2] for details). Therefore, we need to provide the previously evaluated designs (`train_x`, *normalized* to be within $[0,1]^d$) to the acquisition function.\n",
        "\n",
        "**Pruning baseline designs**\n",
        "To speed up integration over the function values at the previously evaluated designs, we prune the set of previously evaluated designs (by setting `prune_baseline=True`) to only include those which have positive probability of being on the current in-sample Pareto frontier."
      ]
    },
    {
      "cell_type": "code",
      "execution_count": 125,
      "metadata": {
        "code_folding": [],
        "customOutput": null,
        "executionStartTime": 1668651354970,
        "executionStopTime": 1668651355060,
        "hidden_ranges": [],
        "originalKey": "65dcfbb2-f1e9-40a1-9807-8cdc1cc3fdc8",
        "requestMsgId": "68a072df-7e90-4c7f-9915-520ca48c5e0a"
      },
      "outputs": [],
      "source": [
        "from botorch.acquisition.multi_objective.monte_carlo import (\n",
        "    qNoisyExpectedHypervolumeImprovement,\n",
        ")\n",
        "from botorch.acquisition.multi_objective.objective import IdentityMCMultiOutputObjective\n",
        "from botorch.optim.optimize import optimize_acqf, optimize_acqf_list\n",
        "from botorch.utils.multi_objective.scalarization import get_chebyshev_scalarization\n",
        "from botorch.utils.sampling import sample_simplex\n",
        "\n",
        "\n",
        "BATCH_SIZE = 1\n",
        "NUM_RESTARTS = 10 if not SMOKE_TEST else 2\n",
        "RAW_SAMPLES = 512 if not SMOKE_TEST else 4\n",
        "\n",
        "standard_bounds = torch.zeros(2, problem.dim, **tkwargs)\n",
        "standard_bounds[1] = 1\n",
        "\n",
        "\n",
        "def optimize_qnehvi_and_get_observation(model, train_x, train_obj, train_con, sampler):\n",
        "    \"\"\"Optimizes the qNEHVI acquisition function, and returns a new candidate and observation.\"\"\"\n",
        "    train_x = normalize(train_x, problem.bounds)\n",
        "    acq_func = qNoisyExpectedHypervolumeImprovement(\n",
        "        model=model,\n",
        "        ref_point=problem.ref_point.tolist(),  # use known reference point\n",
        "        X_baseline=train_x,\n",
        "        sampler=sampler,\n",
        "        prune_baseline=False,\n",
        "        # define an objective that specifies which outcomes are the objectives\n",
        "        objective=IdentityMCMultiOutputObjective(outcomes=[0, 1]),\n",
        "        # specify that the constraint is on the last outcome\n",
        "        constraints=[lambda Z: Z[..., -1]],\n",
        "    )\n",
        "    # optimize\n",
        "    candidates, _ = optimize_acqf(\n",
        "        acq_function=acq_func,\n",
        "        bounds=standard_bounds,\n",
        "        q=BATCH_SIZE,\n",
        "        num_restarts=NUM_RESTARTS,\n",
        "        raw_samples=RAW_SAMPLES,  # used for intialization heuristic\n",
        "        options={\"batch_limit\": 5, \"maxiter\": 200},\n",
        "        sequential=True,\n",
        "    )\n",
        "    # observe new values\n",
        "    new_x = unnormalize(candidates.detach(), bounds=problem.bounds)\n",
        "    new_obj = problem(new_x)\n",
        "    # negative values imply feasibility in botorch\n",
        "    new_con = -evaluate_slack(new_x)\n",
        "    return new_x, new_obj, new_con"
      ]
    },
    {
      "cell_type": "markdown",
      "metadata": {
        "originalKey": "ae9e19c2-327f-486e-bee3-11f1b71b0dfe",
        "showInput": false
      },
      "source": [
        "#### Define a helper function that performs the essential BO step for $q$ParEGO\n",
        "The helper function below similarly initializes $q$ParEGO, optimizes it, and returns the batch $\\{x_1, x_2, \\ldots x_q\\}$ along with the observed function values. \n",
        "\n",
        "$q$ParEGO uses random augmented chebyshev scalarization with the `qExpectedImprovement` acquisition function. In the parallel setting ($q>1$), each candidate is optimized in sequential greedy fashion using a different random scalarization (see [1] for details).\n",
        "\n",
        "To do this, we create a list of `qExpectedImprovement` acquisition functions, each with different random scalarization weights. The `optimize_acqf_list` method sequentially generates one candidate per acquisition function and conditions the next candidate (and acquisition function) on the previously selected pending candidates."
      ]
    },
    {
      "cell_type": "code",
      "execution_count": 126,
      "metadata": {
        "code_folding": [],
        "customOutput": null,
        "executionStartTime": 1668651355591,
        "executionStopTime": 1668651355682,
        "hidden_ranges": [],
        "originalKey": "a4a23da4-64de-4948-ad92-76b57c023f62",
        "requestMsgId": "f38f70dd-4857-484f-963c-cdfec7d8fc67"
      },
      "outputs": [],
      "source": [
        "from botorch.acquisition.monte_carlo import qExpectedImprovement\n",
        "from botorch.acquisition.objective import GenericMCObjective\n",
        "\n",
        "\n",
        "def optimize_qparego_and_get_observation(model, train_obj, train_con, sampler):\n",
        "    \"\"\"Samples a set of random weights for each candidate in the batch, performs sequential greedy optimization\n",
        "    of the qParEGO acquisition function, and returns a new candidate and observation.\"\"\"\n",
        "    acq_func_list = []\n",
        "    for _ in range(BATCH_SIZE):\n",
        "        # sample random weights\n",
        "        weights = sample_simplex(problem.num_objectives, **tkwargs).squeeze()\n",
        "        # construct augmented Chebyshev scalarization\n",
        "        scalarization = get_chebyshev_scalarization(weights=weights, Y=train_obj)\n",
        "        # initialize the scalarized objective (w/o constraints)\n",
        "        scalarized_objective = GenericMCObjective(\n",
        "            # the last element of the model outputs is the constraint\n",
        "            lambda Z, X: scalarization(Z[..., :-1]),\n",
        "        )\n",
        "        train_y = torch.cat([train_obj, train_con], dim=-1)\n",
        "        acq_func = qExpectedImprovement(  # pyre-ignore: [28]\n",
        "            model=model,\n",
        "            objective=scalarized_objective,\n",
        "            best_f=scalarized_objective(train_y).max(),\n",
        "            constraints=[lambda Z: Z[..., -1]],\n",
        "            sampler=sampler,\n",
        "        )\n",
        "        acq_func_list.append(acq_func)\n",
        "    # optimize\n",
        "    candidates, acq_v = optimize_acqf_list(\n",
        "        acq_function_list=acq_func_list,\n",
        "        bounds=standard_bounds,\n",
        "        num_restarts=NUM_RESTARTS,\n",
        "        raw_samples=RAW_SAMPLES,  # used for intialization heuristic\n",
        "        options={\"batch_limit\": 5, \"maxiter\": 200},\n",
        "    )\n",
        "    # observe new values\n",
        "    new_x = unnormalize(candidates.detach(), bounds=problem.bounds)\n",
        "    new_obj = problem(new_x)\n",
        "    # negative values imply feasibility in botorch\n",
        "    new_con = -evaluate_slack(new_x)\n",
        "    return new_x, new_obj, new_con, acq_v"
      ]
    },
    {
      "cell_type": "code",
      "execution_count": 127,
      "metadata": {},
      "outputs": [
        {
          "data": {
            "text/plain": [
              "10"
            ]
          },
          "execution_count": 127,
          "metadata": {},
          "output_type": "execute_result"
        }
      ],
      "source": [
        "NUM_RESTARTS"
      ]
    },
    {
      "cell_type": "markdown",
      "metadata": {
        "originalKey": "d4487ba0-4fad-41dd-a2ae-e0b95094dba1",
        "showInput": false
      },
      "source": [
        "### Perform Bayesian Optimization loop with $q$EHVI and $q$ParEGO\n",
        "The Bayesian optimization \"loop\" for a batch size of $q$ simply iterates the following steps:\n",
        "1. given a surrogate model, choose a batch of points $\\{x_1, x_2, \\ldots x_q\\}$\n",
        "2. observe $f(x)$ for each $x$ in the batch \n",
        "3. update the surrogate model. \n",
        "\n",
        "\n",
        "Just for illustration purposes, we run one trial with `N_BATCH=20` rounds of optimization. The acquisition function is approximated using `MC_SAMPLES=128` samples.\n",
        "\n",
        "*Note*: Running this may take a little while."
      ]
    },
    {
      "cell_type": "code",
      "execution_count": 128,
      "metadata": {},
      "outputs": [],
      "source": [
        "\n",
        "def voxel_grid_sampling_with_indices(points, voxel_size = 5.0):\n",
        "    # Calculate the minimum and maximum coordinates\n",
        "    min_coords = torch.min(points, dim=0).values\n",
        "    max_coords = torch.max(points, dim=0).values\n",
        "\n",
        "    # Shift points so that the minimum coordinates are at the origin\n",
        "    shifted_points = points - min_coords\n",
        "\n",
        "    # Quantize the points to voxel grid coordinates\n",
        "    voxel_indices = torch.floor(shifted_points / voxel_size).long()\n",
        "\n",
        "    # Use a dictionary to store unique voxel indices and the corresponding row index\n",
        "    voxel_dict = {}\n",
        "    for idx, voxel_idx in enumerate(voxel_indices):\n",
        "        voxel_idx_tuple = tuple(voxel_idx.tolist())\n",
        "        if voxel_idx_tuple not in voxel_dict:\n",
        "            voxel_dict[voxel_idx_tuple] = idx\n",
        "\n",
        "    # Extract the row indices of the sampled points\n",
        "    sampled_indices = torch.tensor(list(voxel_dict.values()))\n",
        "\n",
        "    return sampled_indices\n",
        "\n"
      ]
    },
    {
      "cell_type": "code",
      "execution_count": 129,
      "metadata": {
        "code_folding": [],
        "customOutput": null,
        "executionStartTime": 1668651356028,
        "executionStopTime": 1668651959470,
        "hidden_ranges": [],
        "originalKey": "4c225d99-6425-4201-ac4a-a042a351c1d3",
        "requestMsgId": "be831f3c-ff7c-4c00-a215-fb021f0c5770"
      },
      "outputs": [
        {
          "ename": "IndexError",
          "evalue": "list index out of range",
          "output_type": "error",
          "traceback": [
            "\u001b[0;31m---------------------------------------------------------------------------\u001b[0m",
            "\u001b[0;31mIndexError\u001b[0m                                Traceback (most recent call last)",
            "Cell \u001b[0;32mIn[129], line 35\u001b[0m\n\u001b[1;32m     32\u001b[0m train_obj_qparego \u001b[38;5;241m=\u001b[39m train_obj_qparego[resample_ind, :]\n\u001b[1;32m     33\u001b[0m train_con_qparego \u001b[38;5;241m=\u001b[39m  train_con_qparego[resample_ind, :]\n\u001b[0;32m---> 35\u001b[0m mll_qparego, model_qparego \u001b[38;5;241m=\u001b[39m \u001b[43minitialize_model\u001b[49m\u001b[43m(\u001b[49m\n\u001b[1;32m     36\u001b[0m \u001b[43m    \u001b[49m\u001b[43mtrain_x_qparego\u001b[49m\u001b[43m,\u001b[49m\u001b[43m \u001b[49m\u001b[43mtrain_obj_qparego\u001b[49m\u001b[43m,\u001b[49m\u001b[43m \u001b[49m\u001b[43mtrain_con_qparego\u001b[49m\n\u001b[1;32m     37\u001b[0m \u001b[43m\u001b[49m\u001b[43m)\u001b[49m\n\u001b[1;32m     39\u001b[0m \u001b[38;5;124;03m'''train_x_qnehvi, train_obj_qnehvi, train_con_qnehvi = (\u001b[39;00m\n\u001b[1;32m     40\u001b[0m \u001b[38;5;124;03m    train_x_qparego,\u001b[39;00m\n\u001b[1;32m     41\u001b[0m \u001b[38;5;124;03m    train_obj_qparego,\u001b[39;00m\n\u001b[1;32m     42\u001b[0m \u001b[38;5;124;03m    train_con_qparego,\u001b[39;00m\n\u001b[1;32m     43\u001b[0m \u001b[38;5;124;03m)'''\u001b[39;00m\n\u001b[1;32m     44\u001b[0m train_x_random, train_obj_random, train_con_random \u001b[38;5;241m=\u001b[39m (\n\u001b[1;32m     45\u001b[0m     train_x_qparego,\n\u001b[1;32m     46\u001b[0m     train_obj_qparego,\n\u001b[1;32m     47\u001b[0m     train_con_qparego,\n\u001b[1;32m     48\u001b[0m )\n",
            "Cell \u001b[0;32mIn[124], line 38\u001b[0m, in \u001b[0;36minitialize_model\u001b[0;34m(train_x, train_obj, train_con)\u001b[0m\n\u001b[1;32m     34\u001b[0m models \u001b[38;5;241m=\u001b[39m []\n\u001b[1;32m     35\u001b[0m \u001b[38;5;28;01mfor\u001b[39;00m i \u001b[38;5;129;01min\u001b[39;00m \u001b[38;5;28mrange\u001b[39m(train_y\u001b[38;5;241m.\u001b[39mshape[\u001b[38;5;241m-\u001b[39m\u001b[38;5;241m1\u001b[39m]):\n\u001b[1;32m     36\u001b[0m     models\u001b[38;5;241m.\u001b[39mappend(\n\u001b[1;32m     37\u001b[0m         SingleTaskGP(\n\u001b[0;32m---> 38\u001b[0m             train_x, train_y[\u001b[38;5;241m.\u001b[39m\u001b[38;5;241m.\u001b[39m\u001b[38;5;241m.\u001b[39m, i : i \u001b[38;5;241m+\u001b[39m \u001b[38;5;241m1\u001b[39m], outcome_transform\u001b[38;5;241m=\u001b[39mStandardize(m\u001b[38;5;241m=\u001b[39m\u001b[38;5;241m1\u001b[39m), covar_module \u001b[38;5;241m=\u001b[39m covar_module, train_Yvar\u001b[38;5;241m=\u001b[39m torch\u001b[38;5;241m.\u001b[39mzeros((train_x\u001b[38;5;241m.\u001b[39mshape[\u001b[38;5;241m0\u001b[39m],\u001b[38;5;241m1\u001b[39m)) \u001b[38;5;241m+\u001b[39m \u001b[38;5;241m0.01\u001b[39m\u001b[38;5;241m*\u001b[39m\u001b[38;5;241m*\u001b[39m\u001b[38;5;241m2\u001b[39m, mean_module \u001b[38;5;241m=\u001b[39m \u001b[43mmean_modules\u001b[49m\u001b[43m[\u001b[49m\u001b[43mi\u001b[49m\u001b[43m]\u001b[49m\n\u001b[1;32m     39\u001b[0m         )\n\u001b[1;32m     40\u001b[0m     )\n\u001b[1;32m     41\u001b[0m model \u001b[38;5;241m=\u001b[39m ModelListGP(\u001b[38;5;241m*\u001b[39mmodels)\n\u001b[1;32m     42\u001b[0m mll \u001b[38;5;241m=\u001b[39m SumMarginalLogLikelihood(model\u001b[38;5;241m.\u001b[39mlikelihood, model)\n",
            "\u001b[0;31mIndexError\u001b[0m: list index out of range"
          ]
        }
      ],
      "source": [
        "import time\n",
        "import warnings\n",
        "\n",
        "from botorch import fit_gpytorch_mll\n",
        "from botorch.exceptions import BadInitialCandidatesWarning\n",
        "from botorch.sampling.normal import SobolQMCNormalSampler\n",
        "from botorch.utils.multi_objective.hypervolume import Hypervolume\n",
        "from botorch.utils.multi_objective.pareto import is_non_dominated\n",
        "\n",
        "\n",
        "warnings.filterwarnings(\"ignore\", category=BadInitialCandidatesWarning)\n",
        "warnings.filterwarnings(\"ignore\", category=RuntimeWarning)\n",
        "c = 0\n",
        "N_BATCH = 70 if not SMOKE_TEST else 5\n",
        "MC_SAMPLES = 128 if not SMOKE_TEST else 16\n",
        "verbose = True\n",
        "random_seeds = [83810, 14592, 3278, 97196, 36048, 32098, 29256, 18289, 96530, 13434, 88696, 97080, 71482, 11395, 77397, 55302, 4165, 3905, 12280, 28657, 30495, 66237, 78907, 3478, 73563,\n",
        "26062, 93850, 85181, 91924, 71426, 54987, 28893, 58878, 77236, 36463, 851, 99458, 20926, 91506, 55392, 44597, 36421, 20379, 28221, 44118, 13396, 12156, 49797, 12676, 47052]\n",
        "\n",
        "for seed in random_seeds[: 10]:\n",
        "    torch.manual_seed(seed)\n",
        "    hv = Hypervolume(ref_point=torch.tensor([10, -60, -350]).to(**tkwargs))\n",
        "    hvs_qparego, hvs_qnehvi, hvs_random = [], [], []\n",
        "\n",
        "    # call helper functions to generate initial training data and initialize model\n",
        "    train_x_qparego, train_obj_qparego, train_con_qparego = generate_initial_data(\n",
        "        n=64\n",
        "    )\n",
        "    #obtain ~20 evenly distributed objective points\n",
        "    resample_ind = voxel_grid_sampling_with_indices(train_obj_qparego)\n",
        "    train_x_qparego = train_x_qparego[resample_ind, :]\n",
        "    train_obj_qparego = train_obj_qparego[resample_ind, :]\n",
        "    train_con_qparego =  train_con_qparego[resample_ind, :]\n",
        "\n",
        "    mll_qparego, model_qparego = initialize_model(\n",
        "        train_x_qparego, train_obj_qparego, train_con_qparego\n",
        "    )\n",
        "\n",
        "    '''train_x_qnehvi, train_obj_qnehvi, train_con_qnehvi = (\n",
        "        train_x_qparego,\n",
        "        train_obj_qparego,\n",
        "        train_con_qparego,\n",
        "    )'''\n",
        "    train_x_random, train_obj_random, train_con_random = (\n",
        "        train_x_qparego,\n",
        "        train_obj_qparego,\n",
        "        train_con_qparego,\n",
        "    )\n",
        "\n",
        "    '''mll_qnehvi, model_qnehvi = initialize_model(\n",
        "        train_x_qnehvi, train_obj_qnehvi, train_con_qnehvi\n",
        "    )\n",
        "    '''\n",
        "    # compute pareto front\n",
        "    is_feas = (train_con_qparego <= 0).all(dim=-1)\n",
        "    feas_train_obj = train_obj_qparego[is_feas]\n",
        "    if feas_train_obj.shape[0] > 0:\n",
        "        pareto_mask = is_non_dominated(feas_train_obj)\n",
        "        pareto_y = feas_train_obj[pareto_mask]\n",
        "        # compute hypervolume\n",
        "        volume = hv.compute(pareto_y)\n",
        "    else:\n",
        "        volume = 0.0\n",
        "\n",
        "    hvs_qparego.append(volume)\n",
        "    print(volume)\n",
        "    #hvs_qnehvi.append(volume)\n",
        "    hvs_random.append(volume)\n",
        "    Acq = []\n",
        "    # run N_BATCH rounds of BayesOpt after the initial random batch\n",
        "    for iteration in range(1, N_BATCH + 1):\n",
        "        t0 = time.monotonic()\n",
        "\n",
        "        # fit the models\n",
        "        fit_gpytorch_mll(mll_qparego)\n",
        "        #fit_gpytorch_mll(mll_qnehvi)\n",
        "\n",
        "        # define the qParEGO and qNEHVI acquisition modules using a QMC sampler\n",
        "        qparego_sampler = SobolQMCNormalSampler(sample_shape=torch.Size([MC_SAMPLES]))\n",
        "    # qnehvi_sampler = SobolQMCNormalSampler(sample_shape=torch.Size([MC_SAMPLES]))\n",
        "\n",
        "        # optimize acquisition functions and get new observations\n",
        "        (\n",
        "            new_x_qparego,\n",
        "            new_obj_qparego,\n",
        "            new_con_qparego,\n",
        "            new_acq_v_qparego\n",
        "        ) = optimize_qparego_and_get_observation(\n",
        "            model_qparego, train_obj_qparego, train_con_qparego, qparego_sampler\n",
        "        )\n",
        "        '''new_x_qnehvi, new_obj_qnehvi, new_con_qnehvi = optimize_qnehvi_and_get_observation(\n",
        "            model_qnehvi, train_x_qnehvi, train_obj_qnehvi, train_con_qnehvi, qnehvi_sampler\n",
        "        )'''\n",
        "        new_x_random, new_obj_random, new_con_random = generate_initial_data(n=BATCH_SIZE)\n",
        "\n",
        "        # update training points\n",
        "        train_x_qparego = torch.cat([train_x_qparego, new_x_qparego])\n",
        "        train_obj_qparego = torch.cat([train_obj_qparego, new_obj_qparego])\n",
        "        train_con_qparego = torch.cat([train_con_qparego, new_con_qparego])\n",
        "\n",
        "        '''train_x_qnehvi = torch.cat([train_x_qnehvi, new_x_qnehvi])\n",
        "        train_obj_qnehvi = torch.cat([train_obj_qnehvi, new_obj_qnehvi])\n",
        "        train_con_qnehvi = torch.cat([train_con_qnehvi, new_con_qnehvi])\n",
        "    '''\n",
        "        train_x_random = torch.cat([train_x_random, new_x_random])\n",
        "        train_obj_random = torch.cat([train_obj_random, new_obj_random])\n",
        "        train_con_random = torch.cat([train_con_random, new_con_random])\n",
        "        #append acqvs\n",
        "        Acq.append(new_acq_v_qparego)\n",
        "        # update progress\n",
        "        for hvs_list, train_obj, train_con in zip(\n",
        "            (hvs_random, hvs_qparego),\n",
        "            (train_obj_random, train_obj_qparego),\n",
        "            (train_con_random, train_con_qparego),\n",
        "        ):\n",
        "            # compute pareto front\n",
        "            is_feas = (train_con <= 0).all(dim=-1)\n",
        "            feas_train_obj = train_obj[is_feas]\n",
        "            if feas_train_obj.shape[0] > 0:\n",
        "                pareto_mask = is_non_dominated(feas_train_obj)\n",
        "                pareto_y = feas_train_obj[pareto_mask]\n",
        "                # compute feasible hypervolume\n",
        "                volume = hv.compute(pareto_y)\n",
        "            else:\n",
        "                volume = 0.0\n",
        "            hvs_list.append(volume)\n",
        "\n",
        "        # reinitialize the models so they are ready for fitting on next iteration\n",
        "        # Note: we find improved performance from not warm starting the model hyperparameters\n",
        "        # using the hyperparameters from the previous iteration\n",
        "        mll_qparego, model_qparego = initialize_model(\n",
        "            train_x_qparego, train_obj_qparego, train_con_qparego\n",
        "        )\n",
        "        '''mll_qnehvi, model_qnehvi = initialize_model(\n",
        "            train_x_qnehvi, train_obj_qnehvi, train_con_qnehvi\n",
        "        )'''\n",
        "\n",
        "        t1 = time.monotonic()\n",
        "\n",
        "        if verbose:\n",
        "            print(\n",
        "                f\"\\nBatch {iteration:>2}: Hypervolume (random, qParEGO) = \"\n",
        "                f\"({hvs_random[-1]:>4.2f}, {hvs_qparego[-1]:>4.2f}), \"\n",
        "                f\"time = {t1-t0:>4.2f}.\",\n",
        "                end=\"\",\n",
        "            )\n",
        "        else:\n",
        "            print(\".\", end=\"\")\n",
        "    c+=1\n",
        "    torch.save(torch.tensor(hvs_qparego), f'hv_peni_parego_better_fit_{c}.pt')\n",
        "    torch.save(train_obj_qparego, f'obj_peni_parego_better_fit_{c}.pt')"
      ]
    },
    {
      "cell_type": "code",
      "execution_count": null,
      "metadata": {},
      "outputs": [],
      "source": []
    },
    {
      "cell_type": "markdown",
      "metadata": {
        "originalKey": "3132af99-128f-41fc-9e6c-d1eaf6083f81",
        "showInput": false
      },
      "source": [
        "#### Plot the results\n",
        "The plot below shows the log feasible hypervolume difference: the log difference between the hypervolume of the true feasible pareto front and the hypervolume of the observed (feasible) pareto front identified by each algorithm. The log feasible hypervolume difference is plotted at each step of the optimization for each of the algorithms.\n",
        "\n",
        "The plot show that $q$NEHVI vastly outperforms the $q$ParEGO and Sobol baselines."
      ]
    },
    {
      "cell_type": "code",
      "execution_count": null,
      "metadata": {
        "code_folding": [],
        "customOutput": null,
        "executionStartTime": 1668651959825,
        "executionStopTime": 1668651960985,
        "hidden_ranges": [],
        "originalKey": "38f5ce01-264f-43bd-8bdb-edf756f7c0dc",
        "requestMsgId": "ec2a65b4-0cdb-4487-b6f4-da16df97ce18"
      },
      "outputs": [
        {
          "name": "stderr",
          "output_type": "stream",
          "text": [
            "/home/diantong/.local/lib/python3.10/site-packages/matplotlib/projections/__init__.py:63: UserWarning: Unable to import Axes3D. This may be due to multiple versions of Matplotlib being installed (e.g. as a system package and as a pip package). As a result, the 3D projection is not available.\n",
            "  warnings.warn(\"Unable to import Axes3D. This may be due to multiple versions of \"\n"
          ]
        },
        {
          "data": {
            "text/plain": [
              "<matplotlib.legend.Legend at 0x7fafce678430>"
            ]
          },
          "execution_count": 110,
          "metadata": {},
          "output_type": "execute_result"
        },
        {
          "data": {
            "image/png": "[encoded data removed]",
            "text/plain": [
              "<Figure size 800x600 with 1 Axes>"
            ]
          },
          "metadata": {},
          "output_type": "display_data"
        }
      ],
      "source": [
        "import numpy as np\n",
        "from matplotlib import pyplot as plt\n",
        "\n",
        "\n",
        "%matplotlib inline\n",
        "\n",
        "\n",
        "iters = np.arange(N_BATCH + 1) * BATCH_SIZE\n",
        "log_hv_difference_qparego = np.log10(20000 - np.asarray(hvs_qparego))\n",
        "#log_hv_difference_qnehvi = np.log10(problem.max_hv - np.asarray(hvs_qnehvi))\n",
        "log_hv_difference_rnd = np.log10(20000 - np.asarray(hvs_random))\n",
        "\n",
        "fig, ax = plt.subplots(1, 1, figsize=(8, 6))\n",
        "ax.plot(\n",
        "    iters,\n",
        "    log_hv_difference_rnd,\n",
        "    label=\"Sobol\",\n",
        "    linewidth=1.5,\n",
        "    color=\"gray\",\n",
        ")\n",
        "ax.plot(\n",
        "    iters,\n",
        "    log_hv_difference_qparego,\n",
        "    label=\"qParEGO\",\n",
        "    linewidth=1.5,\n",
        "    color=\"red\",\n",
        ")\n",
        "'''ax.plot(\n",
        "    iters,\n",
        "    log_hv_difference_qnehvi,\n",
        "    label=\"qNEHVI\",\n",
        "    linewidth=1.5,\n",
        "    color=\"blue\",\n",
        ")'''\n",
        "ax.set(\n",
        "    xlabel=\"number of observations (beyond initial points)\",\n",
        "    ylabel=\"Log Hypervolume Difference\",\n",
        ")\n",
        "ax.legend(loc=\"lower right\")"
      ]
    },
    {
      "cell_type": "code",
      "execution_count": null,
      "metadata": {},
      "outputs": [
        {
          "ename": "ValueError",
          "evalue": "x and y must have same first dimension, but have shapes (71,) and (70, 1)",
          "output_type": "error",
          "traceback": [
            "\u001b[0;31m---------------------------------------------------------------------------\u001b[0m",
            "\u001b[0;31mValueError\u001b[0m                                Traceback (most recent call last)",
            "Cell \u001b[0;32mIn[111], line 1\u001b[0m\n\u001b[0;32m----> 1\u001b[0m \u001b[43mplt\u001b[49m\u001b[38;5;241;43m.\u001b[39;49m\u001b[43mplot\u001b[49m\u001b[43m(\u001b[49m\u001b[43mhvs_qparego\u001b[49m\u001b[43m,\u001b[49m\u001b[43m \u001b[49m\u001b[43mAcq\u001b[49m\u001b[43m)\u001b[49m\n",
            "File \u001b[0;32m~/.local/lib/python3.10/site-packages/matplotlib/pyplot.py:3794\u001b[0m, in \u001b[0;36mplot\u001b[0;34m(scalex, scaley, data, *args, **kwargs)\u001b[0m\n\u001b[1;32m   3786\u001b[0m \u001b[38;5;129m@_copy_docstring_and_deprecators\u001b[39m(Axes\u001b[38;5;241m.\u001b[39mplot)\n\u001b[1;32m   3787\u001b[0m \u001b[38;5;28;01mdef\u001b[39;00m \u001b[38;5;21mplot\u001b[39m(\n\u001b[1;32m   3788\u001b[0m     \u001b[38;5;241m*\u001b[39margs: \u001b[38;5;28mfloat\u001b[39m \u001b[38;5;241m|\u001b[39m ArrayLike \u001b[38;5;241m|\u001b[39m \u001b[38;5;28mstr\u001b[39m,\n\u001b[0;32m   (...)\u001b[0m\n\u001b[1;32m   3792\u001b[0m     \u001b[38;5;241m*\u001b[39m\u001b[38;5;241m*\u001b[39mkwargs,\n\u001b[1;32m   3793\u001b[0m ) \u001b[38;5;241m-\u001b[39m\u001b[38;5;241m>\u001b[39m \u001b[38;5;28mlist\u001b[39m[Line2D]:\n\u001b[0;32m-> 3794\u001b[0m     \u001b[38;5;28;01mreturn\u001b[39;00m \u001b[43mgca\u001b[49m\u001b[43m(\u001b[49m\u001b[43m)\u001b[49m\u001b[38;5;241;43m.\u001b[39;49m\u001b[43mplot\u001b[49m\u001b[43m(\u001b[49m\n\u001b[1;32m   3795\u001b[0m \u001b[43m        \u001b[49m\u001b[38;5;241;43m*\u001b[39;49m\u001b[43margs\u001b[49m\u001b[43m,\u001b[49m\n\u001b[1;32m   3796\u001b[0m \u001b[43m        \u001b[49m\u001b[43mscalex\u001b[49m\u001b[38;5;241;43m=\u001b[39;49m\u001b[43mscalex\u001b[49m\u001b[43m,\u001b[49m\n\u001b[1;32m   3797\u001b[0m \u001b[43m        \u001b[49m\u001b[43mscaley\u001b[49m\u001b[38;5;241;43m=\u001b[39;49m\u001b[43mscaley\u001b[49m\u001b[43m,\u001b[49m\n\u001b[1;32m   3798\u001b[0m \u001b[43m        \u001b[49m\u001b[38;5;241;43m*\u001b[39;49m\u001b[38;5;241;43m*\u001b[39;49m\u001b[43m(\u001b[49m\u001b[43m{\u001b[49m\u001b[38;5;124;43m\"\u001b[39;49m\u001b[38;5;124;43mdata\u001b[39;49m\u001b[38;5;124;43m\"\u001b[39;49m\u001b[43m:\u001b[49m\u001b[43m \u001b[49m\u001b[43mdata\u001b[49m\u001b[43m}\u001b[49m\u001b[43m \u001b[49m\u001b[38;5;28;43;01mif\u001b[39;49;00m\u001b[43m \u001b[49m\u001b[43mdata\u001b[49m\u001b[43m \u001b[49m\u001b[38;5;129;43;01mis\u001b[39;49;00m\u001b[43m \u001b[49m\u001b[38;5;129;43;01mnot\u001b[39;49;00m\u001b[43m \u001b[49m\u001b[38;5;28;43;01mNone\u001b[39;49;00m\u001b[43m \u001b[49m\u001b[38;5;28;43;01melse\u001b[39;49;00m\u001b[43m \u001b[49m\u001b[43m{\u001b[49m\u001b[43m}\u001b[49m\u001b[43m)\u001b[49m\u001b[43m,\u001b[49m\n\u001b[1;32m   3799\u001b[0m \u001b[43m        \u001b[49m\u001b[38;5;241;43m*\u001b[39;49m\u001b[38;5;241;43m*\u001b[39;49m\u001b[43mkwargs\u001b[49m\u001b[43m,\u001b[49m\n\u001b[1;32m   3800\u001b[0m \u001b[43m    \u001b[49m\u001b[43m)\u001b[49m\n",
            "File \u001b[0;32m~/.local/lib/python3.10/site-packages/matplotlib/axes/_axes.py:1779\u001b[0m, in \u001b[0;36mAxes.plot\u001b[0;34m(self, scalex, scaley, data, *args, **kwargs)\u001b[0m\n\u001b[1;32m   1536\u001b[0m \u001b[38;5;124;03m\"\"\"\u001b[39;00m\n\u001b[1;32m   1537\u001b[0m \u001b[38;5;124;03mPlot y versus x as lines and/or markers.\u001b[39;00m\n\u001b[1;32m   1538\u001b[0m \n\u001b[0;32m   (...)\u001b[0m\n\u001b[1;32m   1776\u001b[0m \u001b[38;5;124;03m(``'green'``) or hex strings (``'#008000'``).\u001b[39;00m\n\u001b[1;32m   1777\u001b[0m \u001b[38;5;124;03m\"\"\"\u001b[39;00m\n\u001b[1;32m   1778\u001b[0m kwargs \u001b[38;5;241m=\u001b[39m cbook\u001b[38;5;241m.\u001b[39mnormalize_kwargs(kwargs, mlines\u001b[38;5;241m.\u001b[39mLine2D)\n\u001b[0;32m-> 1779\u001b[0m lines \u001b[38;5;241m=\u001b[39m [\u001b[38;5;241m*\u001b[39m\u001b[38;5;28mself\u001b[39m\u001b[38;5;241m.\u001b[39m_get_lines(\u001b[38;5;28mself\u001b[39m, \u001b[38;5;241m*\u001b[39margs, data\u001b[38;5;241m=\u001b[39mdata, \u001b[38;5;241m*\u001b[39m\u001b[38;5;241m*\u001b[39mkwargs)]\n\u001b[1;32m   1780\u001b[0m \u001b[38;5;28;01mfor\u001b[39;00m line \u001b[38;5;129;01min\u001b[39;00m lines:\n\u001b[1;32m   1781\u001b[0m     \u001b[38;5;28mself\u001b[39m\u001b[38;5;241m.\u001b[39madd_line(line)\n",
            "File \u001b[0;32m~/.local/lib/python3.10/site-packages/matplotlib/axes/_base.py:296\u001b[0m, in \u001b[0;36m_process_plot_var_args.__call__\u001b[0;34m(self, axes, data, *args, **kwargs)\u001b[0m\n\u001b[1;32m    294\u001b[0m     this \u001b[38;5;241m+\u001b[39m\u001b[38;5;241m=\u001b[39m args[\u001b[38;5;241m0\u001b[39m],\n\u001b[1;32m    295\u001b[0m     args \u001b[38;5;241m=\u001b[39m args[\u001b[38;5;241m1\u001b[39m:]\n\u001b[0;32m--> 296\u001b[0m \u001b[38;5;28;01myield from\u001b[39;00m \u001b[38;5;28;43mself\u001b[39;49m\u001b[38;5;241;43m.\u001b[39;49m\u001b[43m_plot_args\u001b[49m\u001b[43m(\u001b[49m\n\u001b[1;32m    297\u001b[0m \u001b[43m    \u001b[49m\u001b[43maxes\u001b[49m\u001b[43m,\u001b[49m\u001b[43m \u001b[49m\u001b[43mthis\u001b[49m\u001b[43m,\u001b[49m\u001b[43m \u001b[49m\u001b[43mkwargs\u001b[49m\u001b[43m,\u001b[49m\u001b[43m \u001b[49m\u001b[43mambiguous_fmt_datakey\u001b[49m\u001b[38;5;241;43m=\u001b[39;49m\u001b[43mambiguous_fmt_datakey\u001b[49m\u001b[43m)\u001b[49m\n",
            "File \u001b[0;32m~/.local/lib/python3.10/site-packages/matplotlib/axes/_base.py:486\u001b[0m, in \u001b[0;36m_process_plot_var_args._plot_args\u001b[0;34m(self, axes, tup, kwargs, return_kwargs, ambiguous_fmt_datakey)\u001b[0m\n\u001b[1;32m    483\u001b[0m     axes\u001b[38;5;241m.\u001b[39myaxis\u001b[38;5;241m.\u001b[39mupdate_units(y)\n\u001b[1;32m    485\u001b[0m \u001b[38;5;28;01mif\u001b[39;00m x\u001b[38;5;241m.\u001b[39mshape[\u001b[38;5;241m0\u001b[39m] \u001b[38;5;241m!=\u001b[39m y\u001b[38;5;241m.\u001b[39mshape[\u001b[38;5;241m0\u001b[39m]:\n\u001b[0;32m--> 486\u001b[0m     \u001b[38;5;28;01mraise\u001b[39;00m \u001b[38;5;167;01mValueError\u001b[39;00m(\u001b[38;5;124mf\u001b[39m\u001b[38;5;124m\"\u001b[39m\u001b[38;5;124mx and y must have same first dimension, but \u001b[39m\u001b[38;5;124m\"\u001b[39m\n\u001b[1;32m    487\u001b[0m                      \u001b[38;5;124mf\u001b[39m\u001b[38;5;124m\"\u001b[39m\u001b[38;5;124mhave shapes \u001b[39m\u001b[38;5;132;01m{\u001b[39;00mx\u001b[38;5;241m.\u001b[39mshape\u001b[38;5;132;01m}\u001b[39;00m\u001b[38;5;124m and \u001b[39m\u001b[38;5;132;01m{\u001b[39;00my\u001b[38;5;241m.\u001b[39mshape\u001b[38;5;132;01m}\u001b[39;00m\u001b[38;5;124m\"\u001b[39m)\n\u001b[1;32m    488\u001b[0m \u001b[38;5;28;01mif\u001b[39;00m x\u001b[38;5;241m.\u001b[39mndim \u001b[38;5;241m>\u001b[39m \u001b[38;5;241m2\u001b[39m \u001b[38;5;129;01mor\u001b[39;00m y\u001b[38;5;241m.\u001b[39mndim \u001b[38;5;241m>\u001b[39m \u001b[38;5;241m2\u001b[39m:\n\u001b[1;32m    489\u001b[0m     \u001b[38;5;28;01mraise\u001b[39;00m \u001b[38;5;167;01mValueError\u001b[39;00m(\u001b[38;5;124mf\u001b[39m\u001b[38;5;124m\"\u001b[39m\u001b[38;5;124mx and y can be no greater than 2D, but have \u001b[39m\u001b[38;5;124m\"\u001b[39m\n\u001b[1;32m    490\u001b[0m                      \u001b[38;5;124mf\u001b[39m\u001b[38;5;124m\"\u001b[39m\u001b[38;5;124mshapes \u001b[39m\u001b[38;5;132;01m{\u001b[39;00mx\u001b[38;5;241m.\u001b[39mshape\u001b[38;5;132;01m}\u001b[39;00m\u001b[38;5;124m and \u001b[39m\u001b[38;5;132;01m{\u001b[39;00my\u001b[38;5;241m.\u001b[39mshape\u001b[38;5;132;01m}\u001b[39;00m\u001b[38;5;124m\"\u001b[39m)\n",
            "\u001b[0;31mValueError\u001b[0m: x and y must have same first dimension, but have shapes (71,) and (70, 1)"
          ]
        },
        {
          "data": {
            "image/png": "[encoded data removed]",
            "text/plain": [
              "<Figure size 640x480 with 1 Axes>"
            ]
          },
          "metadata": {},
          "output_type": "display_data"
        }
      ],
      "source": [
        "plt.plot(hvs_qparego, Acq)"
      ]
    },
    {
      "cell_type": "code",
      "execution_count": null,
      "metadata": {},
      "outputs": [
        {
          "data": {
            "text/plain": [
              "[tensor([0.0131], dtype=torch.float64),\n",
              " tensor([0.0012], dtype=torch.float64),\n",
              " tensor([0.0043], dtype=torch.float64),\n",
              " tensor([0.0812], dtype=torch.float64),\n",
              " tensor([0.0102], dtype=torch.float64),\n",
              " tensor([0.0920], dtype=torch.float64),\n",
              " tensor([0.0502], dtype=torch.float64),\n",
              " tensor([0.0887], dtype=torch.float64),\n",
              " tensor([0.0032], dtype=torch.float64),\n",
              " tensor([0.0085], dtype=torch.float64),\n",
              " tensor([0.0492], dtype=torch.float64),\n",
              " tensor([0.0091], dtype=torch.float64),\n",
              " tensor([0.0635], dtype=torch.float64),\n",
              " tensor([0.0039], dtype=torch.float64),\n",
              " tensor([0.1033], dtype=torch.float64),\n",
              " tensor([0.0262], dtype=torch.float64),\n",
              " tensor([0.0397], dtype=torch.float64),\n",
              " tensor([0.0098], dtype=torch.float64),\n",
              " tensor([0.0493], dtype=torch.float64),\n",
              " tensor([0.0370], dtype=torch.float64)]"
            ]
          },
          "execution_count": 126,
          "metadata": {},
          "output_type": "execute_result"
        }
      ],
      "source": [
        "Acq"
      ]
    },
    {
      "cell_type": "markdown",
      "metadata": {
        "code_folding": [],
        "collapsed": true,
        "hidden_ranges": [],
        "originalKey": "a926c260-dcc2-4ce9-9c53-7b75456c6c0c",
        "showInput": false
      },
      "source": [
        "#### Plot the observations colored by iteration\n",
        "\n",
        "To examine optimization process from another perspective, we plot the collected observations under each algorithm where the color corresponds to the BO iteration at which the point was collected. The plot on the right for $q$NEHVI shows that the $q$NEHVI quickly identifies the pareto front and most of its evaluations are very close to the pareto front. $q$ParEGO also identifies has many observations close to the pareto front, but relies on optimizing random scalarizations, which is a less principled way of optimizing the pareto front compared to $q$NEHVI, which explicitly attempts focuses on improving the pareto front. Sobol generates random points and has few points close to the pareto front"
      ]
    },
    {
      "cell_type": "code",
      "execution_count": null,
      "metadata": {
        "customOutput": null,
        "executionStartTime": 1668651961290,
        "executionStopTime": 1668651961935,
        "originalKey": "75cb7f30-5ed2-4a02-bf46-b5c660af6494",
        "requestMsgId": "fa568aad-a7cb-43e7-b7ec-eff622a5edc9"
      },
      "outputs": [
        {
          "data": {
            "text/plain": [
              "Text(0.5, 1.0, 'Iteration')"
            ]
          },
          "execution_count": 121,
          "metadata": {},
          "output_type": "execute_result"
        },
        {
          "data": {
            "image/png": "[encoded data removed]",
            "text/plain": [
              "<Figure size 1700x500 with 3 Axes>"
            ]
          },
          "metadata": {},
          "output_type": "display_data"
        }
      ],
      "source": [
        "from matplotlib.cm import ScalarMappable\n",
        "import matplotlib\n",
        "\n",
        "\n",
        "fig, axes = plt.subplots(1, 2, figsize=(17, 5))\n",
        "algos = [\"Sobol\", \"qParEGO\"]\n",
        "cm = plt.get_cmap(\"viridis\")\n",
        "\n",
        "batch_number = torch.cat(\n",
        "    [\n",
        "        torch.zeros(2 * (d + 1)),\n",
        "        torch.arange(1, N_BATCH + 1).repeat(BATCH_SIZE, 1).t().reshape(-1),\n",
        "    ]\n",
        ").numpy()\n",
        "\n",
        "for i, train_obj in enumerate((train_obj_random, train_obj_qparego)):\n",
        "    sc = axes[i].scatter(\n",
        "        train_obj[:, 0].cpu().numpy(),\n",
        "        train_obj[:, 1].cpu().numpy(),\n",
        "        c=batch_number,\n",
        "        alpha=0.8,\n",
        "    )\n",
        "    axes[i].set_title(algos[i])\n",
        "    axes[i].set_xlabel(\"Objective 1\")\n",
        "    '''axes[i].set_xlim(-2.5, 0)\n",
        "    axes[i].set_ylim(-2.5, 0)'''\n",
        "axes[0].set_ylabel(\"Objective 2\")\n",
        "norm = plt.Normalize(batch_number.min(), batch_number.max())\n",
        "sm = ScalarMappable(norm=norm, cmap=cm)\n",
        "sm.set_array([])\n",
        "fig.subplots_adjust(right=0.9)\n",
        "cbar_ax = fig.add_axes([0.93, 0.15, 0.01, 0.7])\n",
        "cbar = fig.colorbar(sm, cax=cbar_ax)\n",
        "cbar.ax.set_title(\"Iteration\")"
      ]
    },
    {
      "cell_type": "code",
      "execution_count": null,
      "metadata": {},
      "outputs": [],
      "source": [
        "from metrics import HV"
      ]
    },
    {
      "cell_type": "code",
      "execution_count": null,
      "metadata": {},
      "outputs": [
        {
          "data": {
            "text/plain": [
              "11404.354345315096"
            ]
          },
          "execution_count": 123,
          "metadata": {},
          "output_type": "execute_result"
        }
      ],
      "source": [
        "HV(train_obj_qparego, torch.tensor([8, -60, -350]).to(**tkwargs))"
      ]
    }
  ],
  "metadata": {
    "kernelspec": {
      "display_name": "python3",
      "language": "python",
      "name": "python3"
    },
    "language_info": {
      "codemirror_mode": {
        "name": "ipython",
        "version": 3
      },
      "file_extension": ".py",
      "mimetype": "text/x-python",
      "name": "python",
      "nbconvert_exporter": "python",
      "pygments_lexer": "ipython3",
      "version": "3.10.12"
    }
  },
  "nbformat": 4,
  "nbformat_minor": 2
}

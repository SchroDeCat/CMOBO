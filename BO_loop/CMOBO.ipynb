{
 "cells": [
  {
   "cell_type": "code",
   "execution_count": 977,
   "metadata": {},
   "outputs": [],
   "source": [
    "import math\n",
    "from botorch.models.model import Model\n",
    "from botorch.utils import t_batch_mode_transform\n",
    "from torch import Tensor\n",
    "from botorch.models.model_list_gp_regression import ModelListGP\n",
    "import torch\n",
    "from botorch.models import  SingleTaskGP\n",
    "from botorch.fit import fit_gpytorch_mll\n",
    "from botorch.models import SingleTaskGP\n",
    "from botorch.utils import standardize\n",
    "from gpytorch.mlls.sum_marginal_log_likelihood import SumMarginalLogLikelihood\n",
    "from botorch.acquisition import AnalyticAcquisitionFunction\n",
    "from botorch.optim.optimize import optimize_acqf_discrete\n",
    "from botorch.optim.initializers import gen_batch_initial_conditions"
   ]
  },
  {
   "cell_type": "markdown",
   "metadata": {},
   "source": [
    "define the acquisition function"
   ]
  },
  {
   "cell_type": "code",
   "execution_count": 978,
   "metadata": {},
   "outputs": [],
   "source": [
    "from botorch.acquisition import AnalyticAcquisitionFunction\n",
    "import torch\n",
    "\n",
    "class HyperVolumeScalarizedUCB(AnalyticAcquisitionFunction):\n",
    "    def __init__(\n",
    "        self,\n",
    "        model,\n",
    "        beta: torch.Tensor,\n",
    "        theta: torch.Tensor,\n",
    "        ref: torch.Tensor,\n",
    "        maximize: bool = True,\n",
    "    ) -> None:\n",
    "        \"\"\"\n",
    "        Initializes the HyperVolume Scalarized Upper Confidence Bound Acquisition Function.\n",
    "\n",
    "        Args:\n",
    "            model: A BoTorch model representing the posterior distribution of the objectives.\n",
    "            beta (Tensor of shape [1] or [o]): The exploration-exploitation trade-off parameter(s).\n",
    "            theta (Tensor of shape [o]): The weights used for scalarizing the upper bounds, where `o` is the number of objectives.\n",
    "            maximize (bool): Whether to maximize or minimize the scalarized objective. Defaults to True (maximize).\n",
    "        \"\"\"\n",
    "        super(AnalyticAcquisitionFunction, self).__init__(model)\n",
    "        self.maximize = maximize\n",
    "        self.register_buffer(\"beta\", torch.as_tensor(beta))\n",
    "        self.register_buffer(\"theta\", torch.as_tensor(theta))\n",
    "        self.register_buffer(\"ref\", torch.as_tensor(ref))\n",
    "    @t_batch_mode_transform(expected_q=1)\n",
    "    def forward(self, X: torch.Tensor) -> torch.Tensor:\n",
    "        \"\"\"\n",
    "        Evaluate the scalarized Upper Confidence Bound on the candidate set X.\n",
    "\n",
    "        Args:\n",
    "            X (Tensor of shape [b, d]): A tensor containing `(b)` batches of `d`-dimensional design points.\n",
    "\n",
    "        Returns:\n",
    "            Tensor of shape [b]: A tensor containing the scalarized Upper Confidence Bound values for each batch.\n",
    "        \"\"\"\n",
    "        self.beta = self.beta.to(X)\n",
    "        self.theta = self.theta.to(X)\n",
    "        self.ref = self.ref.to(X)\n",
    "        batch_shape = X.shape[:-2]\n",
    "        posterior = self.model.posterior(X)\n",
    "        means = posterior.mean.squeeze(dim=-2)  # b x o\n",
    "        std_devs = posterior.variance.squeeze(dim=-2).sqrt()  # b x o\n",
    "        m = means.shape[1]\n",
    "        # Calculate upper confidence bounds for each objective\n",
    "        u_t = means + (self.beta.expand_as(means) * std_devs) - self.ref # b x o\n",
    "\n",
    "        # Apply the scalarization function to the upper bounds\n",
    "        scalarized_ut = torch.min(torch.max(torch.zeros_like(u_t), u_t / self.theta) ** m, dim=-1)[0]  # b\n",
    "\n",
    "        return scalarized_ut\n"
   ]
  },
  {
   "cell_type": "markdown",
   "metadata": {},
   "source": [
    "check feasibility\n",
    "\n",
    "for discrete case"
   ]
  },
  {
   "cell_type": "code",
   "execution_count": 979,
   "metadata": {},
   "outputs": [],
   "source": [
    "def check_upper_bound_with_feasible_samples(model, beta: float, X: torch.Tensor, thresholds: torch.Tensor) -> (bool, torch.Tensor):\n",
    "    \"\"\"\n",
    "    Evaluates the upper bounds of the GP model at given points and checks against thresholds.\n",
    "    Additionally, returns samples from X that are feasible with respect to all objectives.\n",
    "\n",
    "    Args:\n",
    "        model (GP): The Gaussian Process model.\n",
    "        beta (float): The scalar coefficient for the variance component of the UCB.\n",
    "        X (torch.Tensor): A tensor of shape [n, d] containing `n` design points of dimension `d`.\n",
    "        thresholds (torch.Tensor): A tensor of shape [o] containing threshold values for each objective.\n",
    "\n",
    "    Returns:\n",
    "        bool: Returns False if the upper bound of any objective at any point is less than the threshold, otherwise True.\n",
    "        torch.Tensor: A tensor containing the subset of `X` where all objectives are feasible.\n",
    "    \"\"\"\n",
    "    # Compute the posterior mean and covariance at X\n",
    "    posterior = model.posterior(X)\n",
    "    means = posterior.mean.squeeze(-2)  # Shape: [n, o]\n",
    "    std_devs = posterior.variance.squeeze(dim=-2).sqrt()  # Shape: [n, o]\n",
    "\n",
    "    # Calculate the upper confidence bounds\n",
    "    upper_bounds = means + beta * std_devs  # Shape: [n, o]\n",
    "\n",
    "    # Check if any upper bound is below the threshold for each objective\n",
    "    feasible_mask = (upper_bounds >= thresholds).all(dim=1)  # Shape: [n], True for feasible points\n",
    "\n",
    "    # Extract feasible samples\n",
    "    feasible_samples = X[feasible_mask]\n",
    "\n",
    "    # Check if there are any feasible points\n",
    "    is_feasible = feasible_mask.any()\n",
    "\n",
    "    return (is_feasible, feasible_samples)\n",
    "\n"
   ]
  },
  {
   "cell_type": "markdown",
   "metadata": {},
   "source": [
    "create constraints for each iteration(for continuous case)\n",
    "\n",
    "TBD"
   ]
  },
  {
   "cell_type": "code",
   "execution_count": 980,
   "metadata": {},
   "outputs": [],
   "source": [
    "def create_ucb_constraints(model, beta: float, thresholds: torch.Tensor):\n",
    "    \"\"\"\n",
    "    Creates a list of non-linear inequality constraints for a multi-output GP model, ensuring that the upper confidence\n",
    "    bounds of the model's outputs are greater than or equal to the specified thresholds.\n",
    "\n",
    "    Args:\n",
    "        model (MultiTaskGP): A multi-output Gaussian Process model.\n",
    "        beta (float): The scalar coefficient for the variance component of the UCB.\n",
    "        thresholds (torch.Tensor): A tensor of thresholds for each output dimension.\n",
    "\n",
    "    Returns:\n",
    "        List[Tuple[Callable, bool]]: A list of tuples, each containing a callable constraint and a boolean indicating\n",
    "                                      whether the constraint is intra-point (True) or inter-point (False). Each callable\n",
    "                                      takes a tensor `X` of shape [q, d] (where `d` is the dimension of the input space\n",
    "                                      and `q` can be 1 or more representing different design points) and returns a scalar\n",
    "                                      that should be non-negative if the constraint is satisfied.\n",
    "    \"\"\"\n",
    "\n",
    "    def make_constraint(i, threshold):\n",
    "        \"\"\"\n",
    "        Creates a constraint function for the i-th objective.\n",
    "\n",
    "        Args:\n",
    "            i (int): The index of the output dimension for which to create the constraint.\n",
    "            threshold (float): The threshold value that the UCB of the i-th output should meet.\n",
    "\n",
    "        Returns:\n",
    "            Callable: A function that evaluates the constraint across a batch of design points.\n",
    "        \"\"\"\n",
    "        def constraint(X):\n",
    "            # Compute posterior at X\n",
    "            posterior = model.posterior(X)\n",
    "            mean = posterior.mean.squeeze(-2)[:, i]  # Extract the mean for the i-th output\n",
    "            variance = posterior.variance.squeeze(-2)[:, i]  # Extract the variance for the i-th output\n",
    "            ucb = mean + beta * variance.sqrt()  # Compute the UCB\n",
    "\n",
    "            # Minimum across all points in the batch to satisfy the constraint for any single design point\n",
    "            return ucb - threshold\n",
    "\n",
    "        return constraint\n",
    "\n",
    "    # Create a list of constraints for each output dimension, all set as intra-point since they evaluate individually\n",
    "    constraints = [(make_constraint(i, thresholds[i]), True) for i in range(thresholds.size(0))]\n",
    "\n",
    "    return constraints\n"
   ]
  },
  {
   "cell_type": "markdown",
   "metadata": {},
   "source": [
    "sphere point generator"
   ]
  },
  {
   "cell_type": "code",
   "execution_count": 981,
   "metadata": {},
   "outputs": [],
   "source": [
    "def get_random_sample_on_n_sphere(N, R):\n",
    "    # Return a single sample of a vector of dimension N\n",
    "    # with a uniform distribution on the (N-1)-Sphere surface of radius R.\n",
    "    # RATIONALE: https://mathworld.wolfram.com/HyperspherePointPicking.html\n",
    "    \n",
    "    # Generate a normally distributed point\n",
    "    X = torch.randn(N)\n",
    "\n",
    "    # Normalize this point to the surface of the sphere, then scale by radius R\n",
    "    return R * X / torch.norm(X)"
   ]
  },
  {
   "cell_type": "code",
   "execution_count": 982,
   "metadata": {},
   "outputs": [
    {
     "data": {
      "text/plain": [
       "tensor([ 0.3476, -1.2180])"
      ]
     },
     "execution_count": 982,
     "metadata": {},
     "output_type": "execute_result"
    }
   ],
   "source": [
    "torch.randn(2)"
   ]
  },
  {
   "cell_type": "markdown",
   "metadata": {},
   "source": [
    "complete BO - loop"
   ]
  },
  {
   "cell_type": "markdown",
   "metadata": {},
   "source": [
    "test a data set"
   ]
  },
  {
   "cell_type": "code",
   "execution_count": 983,
   "metadata": {},
   "outputs": [],
   "source": [
    "import pandas\n",
    "import numpy\n",
    "from botorch.utils.transforms import normalize, unnormalize\n",
    "data = pandas.read_table('marthedata.txt')\n",
    "first_three_columns = data.iloc[:, 4:7]\n",
    "two_columns = data.iloc[:, -4:-2]\n",
    "numpy_array = first_three_columns.to_numpy()\n",
    "numpy_array_y = two_columns.to_numpy()\n",
    "# Convert the NumPy array to a PyTorch tensor\n",
    "domain = torch.tensor(numpy_array)\n",
    "codomain = torch.tensor(-numpy_array_y)\n",
    "\n",
    "max_index = torch.argmax(codomain[:,0]).item()\n",
    "\n",
    "codomain = torch.cat([codomain[:max_index,:],codomain[max_index+1:,:]],dim = 0)\n",
    "domain = torch.cat([domain[:max_index,:],domain[max_index+1:,:]],dim = 0)\n",
    "\n",
    "bounds = torch.tensor([[torch.min(codomain[:,0]).item(),torch.min(codomain[:,1]).item()], [torch.max(codomain[:,0]).item(), torch.max(codomain[:,1]).item()]])\n",
    "#normalize them\n",
    "codomain = normalize(codomain, bounds)"
   ]
  },
  {
   "cell_type": "code",
   "execution_count": 984,
   "metadata": {},
   "outputs": [],
   "source": [
    "import random\n",
    "rind = random.sample(range(0, 299), 10)\n",
    "\n",
    "train_X = domain[rind,:]\n",
    "train_Y = codomain[rind,:]"
   ]
  },
  {
   "cell_type": "code",
   "execution_count": 985,
   "metadata": {},
   "outputs": [],
   "source": [
    "import numpy as np\n",
    "\n",
    "def find_corresponding_y(X, Y, x):\n",
    "    \"\"\"\n",
    "    Finds the output y corresponding to an input x in the dataset.\n",
    "\n",
    "    Args:\n",
    "        X (np.ndarray): An n x d matrix of input features.\n",
    "        Y (np.ndarray): An n x k matrix of output features corresponding to inputs in X.\n",
    "        x (np.ndarray): A 1 x d vector for which to find the corresponding output.\n",
    "\n",
    "    Returns:\n",
    "        np.ndarray: The corresponding 1 x k output vector y from Y.\n",
    "    \"\"\"\n",
    "    # Find the index where x matches an entry in X\n",
    "    # Using a norm allows us to handle floating point precision issues\n",
    "    # np.isclose can also be used for a more robust floating point comparison\n",
    "    indices = np.where(np.all(np.isclose(X, x), axis=1))[0]\n",
    "    if indices.size > 0:\n",
    "        # Assuming x is unique in X, return the first match\n",
    "        return Y[indices[0]]\n",
    "    else:\n",
    "        # Handle the case where x is not found\n",
    "        raise ValueError(\"The input x is not found in X.\")\n",
    "def F(x):\n",
    "    F = find_corresponding_y(domain, codomain, x)\n",
    "    return F\n"
   ]
  },
  {
   "cell_type": "code",
   "execution_count": 986,
   "metadata": {},
   "outputs": [],
   "source": [
    "import warnings\n",
    "warnings.filterwarnings('ignore')\n",
    "beta =2\n",
    "a = 0.7\n",
    "b=  0.7\n",
    "thresholds = torch.tensor([a,b])\n",
    "for batch in range(50):\n",
    "    model_list = []\n",
    "    m = train_Y.shape[1]\n",
    "    for obj in range(m):\n",
    "        current_model = SingleTaskGP(train_X= train_X, train_Y= train_Y[:, obj].unsqueeze(-1))\n",
    "        model_list.append(current_model)\n",
    "    model = ModelListGP(*model_list)\n",
    "\n",
    "    #test feasibility\n",
    "    is_feasible, feasible_samples = check_upper_bound_with_feasible_samples(model= model, beta= beta, X=domain, thresholds= thresholds)\n",
    "    if not is_feasible:\n",
    "        print('declare infeasible')\n",
    "        break\n",
    "    #print(feasible_samples.shape[0])\n",
    "    #sample theta from distribution(TBD)\n",
    "    theta = get_random_sample_on_n_sphere(m,1).abs()\n",
    "    #create acquisition function\n",
    "    HVUCB = HyperVolumeScalarizedUCB(model= model, beta= torch.tensor(beta), theta = theta, ref= thresholds)\n",
    "    #optimize constraint function\n",
    "    candidate, _ = optimize_acqf_discrete(\n",
    "        acq_function = HVUCB,\n",
    "        choices = feasible_samples,\n",
    "        q = 1,\n",
    "    )\n",
    "    #update data\n",
    "    ##x\n",
    "    train_X = torch.cat([train_X, candidate],dim=0)\n",
    "    train_Y = torch.cat([train_Y, F(candidate).unsqueeze(0)], dim = 0)"
   ]
  },
  {
   "cell_type": "code",
   "execution_count": 987,
   "metadata": {},
   "outputs": [
    {
     "data": {
      "image/png": "[encoded data removed]",
      "text/plain": [
       "<Figure size 1500x1000 with 1 Axes>"
      ]
     },
     "metadata": {},
     "output_type": "display_data"
    }
   ],
   "source": [
    "import matplotlib.pyplot as plt\n",
    "fig, ax = plt.subplots(1,1, figsize = (15,10))\n",
    "ax.scatter(codomain.cpu().numpy()[:,0],codomain.cpu().numpy()[:,1],s = 3, alpha = 0.2)\n",
    "ax.scatter(codomain.cpu().numpy()[rind,0],codomain.cpu().numpy()[rind,1],s = 5, c = 'green')\n",
    "ax.set_xlabel('y1')\n",
    "ax.set_ylabel('y2')\n",
    "ax.scatter(train_Y.cpu().numpy()[6:,0],train_Y.cpu().numpy()[6:,1], s = 1, c = 'red')\n",
    "ax.plot([a,a],[b,1], c = 'pink')\n",
    "ax.plot([a,1],[b,b], c = 'pink')\n",
    "plt.show()\n"
   ]
  },
  {
   "cell_type": "code",
   "execution_count": 988,
   "metadata": {},
   "outputs": [
    {
     "name": "stdout",
     "output_type": "stream",
     "text": [
      "tensor([[0.8897, 0.7593],\n",
      "        [0.9163, 0.8006],\n",
      "        [0.7794, 0.9055],\n",
      "        [0.8282, 0.8885],\n",
      "        [0.6442, 0.9291],\n",
      "        [0.9045, 0.8919],\n",
      "        [0.9784, 0.1512],\n",
      "        [0.9272, 0.8298],\n",
      "        [0.8929, 0.8921],\n",
      "        [0.9051, 0.9240],\n",
      "        [0.9157, 0.8454],\n",
      "        [0.5221, 0.8282],\n",
      "        [0.8885, 0.9559],\n",
      "        [0.8720, 0.9183],\n",
      "        [0.9045, 0.8919],\n",
      "        [0.8885, 0.9559],\n",
      "        [0.7688, 0.6233],\n",
      "        [0.8720, 0.9183],\n",
      "        [0.9045, 0.8919],\n",
      "        [0.8885, 0.9559],\n",
      "        [0.9272, 0.8298],\n",
      "        [0.8720, 0.9183],\n",
      "        [0.9045, 0.8919],\n",
      "        [0.9157, 0.8454],\n",
      "        [0.9272, 0.8298],\n",
      "        [0.8885, 0.9559],\n",
      "        [0.2838, 0.9210],\n",
      "        [0.9093, 0.8413],\n",
      "        [0.9157, 0.8454],\n",
      "        [0.7688, 0.6233],\n",
      "        [0.8773, 0.8829],\n",
      "        [0.7719, 0.9808],\n",
      "        [0.8883, 0.9142],\n",
      "        [0.8773, 0.8829],\n",
      "        [0.7719, 0.9808],\n",
      "        [0.8883, 0.9142],\n",
      "        [0.8612, 0.9124],\n",
      "        [0.7719, 0.9808],\n",
      "        [0.8883, 0.9142],\n",
      "        [0.7719, 0.9808],\n",
      "        [0.6906, 0.7226],\n",
      "        [0.9051, 0.9240],\n",
      "        [0.8612, 0.9124],\n",
      "        [0.5264, 0.9078],\n",
      "        [0.9045, 0.8919],\n",
      "        [0.9141, 0.8474],\n",
      "        [0.9157, 0.8454],\n",
      "        [0.8859, 0.9148],\n",
      "        [1.0000, 0.5199],\n",
      "        [0.5264, 0.9078],\n",
      "        [1.0000, 0.5199],\n",
      "        [0.8612, 0.9124],\n",
      "        [0.9141, 0.8474],\n",
      "        [0.5264, 0.9078],\n",
      "        [0.9003, 0.8927],\n",
      "        [0.8859, 0.9148],\n",
      "        [1.0000, 0.5199],\n",
      "        [0.8885, 0.9559],\n",
      "        [0.8859, 0.9148],\n",
      "        [0.8623, 0.7584]], dtype=torch.float64)\n"
     ]
    }
   ],
   "source": [
    "\n",
    "print(train_Y)"
   ]
  },
  {
   "cell_type": "code",
   "execution_count": 989,
   "metadata": {},
   "outputs": [],
   "source": [
    "posterior = model.posterior(train_X)\n",
    "means = posterior.mean.squeeze(-2)  # Shape: [n, o]\n",
    "std_devs = posterior.variance.squeeze(dim=-2).sqrt()\n",
    "upper_bounds = means + beta * std_devs"
   ]
  },
  {
   "cell_type": "code",
   "execution_count": 990,
   "metadata": {},
   "outputs": [
    {
     "data": {
      "text/plain": [
       "tensor([1.0000, 1.0000], dtype=torch.float64)"
      ]
     },
     "execution_count": 990,
     "metadata": {},
     "output_type": "execute_result"
    }
   ],
   "source": [
    "codomain.max(dim=0)[0]"
   ]
  }
 ],
 "metadata": {
  "kernelspec": {
   "display_name": "Python 3",
   "language": "python",
   "name": "python3"
  },
  "language_info": {
   "codemirror_mode": {
    "name": "ipython",
    "version": 3
   },
   "file_extension": ".py",
   "mimetype": "text/x-python",
   "name": "python",
   "nbconvert_exporter": "python",
   "pygments_lexer": "ipython3",
   "version": "3.10.12"
  }
 },
 "nbformat": 4,
 "nbformat_minor": 2
}
